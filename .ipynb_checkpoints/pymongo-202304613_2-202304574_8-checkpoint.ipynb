{
 "cells": [
  {
   "cell_type": "code",
   "execution_count": 23,
   "id": "3bf57466",
   "metadata": {
    "vscode": {
     "languageId": "plaintext"
    }
   },
   "outputs": [],
   "source": [
    "from pymongo import MongoClient\n",
    "from datetime import datetime\n",
    "\n",
    "# Conexión al cluster MongoDB\n",
    "client = MongoClient(\n",
    "    \"mongodb://mongo1:30001,mongo2:30002,mongo3:30003/?replicaSet=my-replica-set\"\n",
    ")\n",
    "db = client[\"arxiv_db\"]\n",
    "collection = db[\"articles\"]\n",
    "\n",
    "def print_resultados(resultados):\n",
    "    c = 1\n",
    "    for i in resultado:\n",
    "        print(c, \". \", i)\n",
    "        c += 1"
   ]
  },
  {
   "cell_type": "markdown",
   "id": "8ae4e06f-a7a6-4fec-ac96-442b35b7bbb4",
   "metadata": {},
   "source": [
    "# Parte 2"
   ]
  },
  {
   "cell_type": "markdown",
   "id": "f70c351f",
   "metadata": {},
   "source": [
    "## a. Devolver los títulos y fechas de creación de artículos publicados en el año 2025. Mostrar solo esos campos y limitar a los primeros 20 resultados."
   ]
  },
  {
   "cell_type": "code",
   "execution_count": 36,
   "id": "ae276484-0635-4a7b-bd80-c59aa2668904",
   "metadata": {},
   "outputs": [
    {
     "name": "stdout",
     "output_type": "stream",
     "text": [
      "1 .  {'title': 'Kinematically-enhanced interpolating operators for boosted hadrons', 'created': ['Wed, 1 Jan 2025 05:26:42 GMT']}\n",
      "2 .  {'title': 'Stable inversion of potential in nonlinear wave equations with cubic\\n  nonlinearity', 'created': ['Wed, 1 Jan 2025 06:35:27 GMT', 'Tue, 21 Jan 2025 01:27:18 GMT']}\n",
      "3 .  {'title': 'LENS-XAI: Redefining Lightweight and Explainable Network Security\\n  through Knowledge Distillation and Variational Autoencoders for Scalable\\n  Intrusion Detection in Cybersecurity', 'created': ['Wed, 1 Jan 2025 10:00:49 GMT', 'Tue, 7 Jan 2025 23:43:09 GMT']}\n",
      "4 .  {'title': 'Hardness of Learning Fixed Parities with Neural Networks', 'created': ['Wed, 1 Jan 2025 12:04:06 GMT', 'Wed, 8 Jan 2025 10:42:53 GMT']}\n",
      "5 .  {'title': 'SPARNet: Continual Test-Time Adaptation via Sample Partitioning Strategy\\n  and Anti-Forgetting Regularization', 'created': ['Wed, 1 Jan 2025 12:19:17 GMT']}\n",
      "6 .  {'title': 'Non-dispersive graded impedance acoustic lenses', 'created': ['Wed, 1 Jan 2025 12:51:14 GMT']}\n",
      "7 .  {'title': 'Scale-wise Bidirectional Alignment Network for Referring Remote Sensing\\n  Image Segmentation', 'created': ['Wed, 1 Jan 2025 14:24:04 GMT', 'Mon, 6 Jan 2025 14:49:47 GMT']}\n",
      "8 .  {'title': 'Hybridising Reinforcement Learning and Heuristics for Hierarchical\\n  Directed Arc Routing Problems', 'created': ['Wed, 1 Jan 2025 14:29:54 GMT']}\n",
      "9 .  {'title': 'On the Parameterized Complexity of Controlling Amendment and Successive\\n  Winners', 'created': ['Wed, 1 Jan 2025 15:08:03 GMT', 'Wed, 15 Jan 2025 13:15:06 GMT', 'Tue, 18 Mar 2025 14:35:36 GMT']}\n",
      "10 .  {'title': 'Paternalism and Deliberation: An Experiment on Making Formal Rules', 'created': ['Wed, 1 Jan 2025 15:16:40 GMT']}\n",
      "11 .  {'title': 'Extracting Interaction Kernels for Many-Particle Systems by a Two-Phase\\n  Approach', 'created': ['Wed, 1 Jan 2025 03:48:08 GMT']}\n",
      "12 .  {'title': 'AttriReBoost: A Gradient-Free Propagation Optimization Method for Cold\\n  Start Mitigation in Attribute Missing Graphs', 'created': ['Wed, 1 Jan 2025 06:19:56 GMT']}\n",
      "13 .  {'title': 'Beyond Words: AuralLLM and SignMST-C for Sign Language Production and\\n  Bidirectional Accessibility', 'created': ['Wed, 1 Jan 2025 07:55:15 GMT', 'Sun, 13 Apr 2025 12:50:16 GMT']}\n",
      "14 .  {'title': 'Infectious diseases, imposing density-dependent mortality on MHC/HLA\\n  variation, can account for balancing selection and MHC/HLA polymorphism', 'created': ['Wed, 1 Jan 2025 08:06:55 GMT']}\n",
      "15 .  {'title': 'Chiral induced Spin Polarized Electron Current: Origin of the Chiral\\n  Induced Spin Selectivity Effect', 'created': ['Wed, 1 Jan 2025 09:22:30 GMT']}\n",
      "16 .  {'title': 'On solvmanifolds with complex commutator and constant holomorphic\\n  sectional curvature', 'created': ['Wed, 1 Jan 2025 11:44:35 GMT']}\n",
      "17 .  {'title': 'Realization of chiral whispering gallery mode cavities enabled by\\n  photonic Chern insulators', 'created': ['Wed, 1 Jan 2025 12:01:13 GMT']}\n",
      "18 .  {'title': 'An LLM-Empowered Adaptive Evolutionary Algorithm For Multi-Component\\n  Deep Learning Systems', 'created': ['Wed, 1 Jan 2025 13:19:58 GMT']}\n",
      "19 .  {'title': 'Spatially-guided Temporal Aggregation for Robust Event-RGB Optical Flow\\n  Estimation', 'created': ['Wed, 1 Jan 2025 13:40:09 GMT']}\n",
      "20 .  {'title': 'Penalized weighted GEEs for high-dimensional longitudinal data with\\n  informative cluter size', 'created': ['Wed, 1 Jan 2025 13:41:28 GMT']}\n"
     ]
    }
   ],
   "source": [
    "resultado = collection.aggregate(\n",
    "    [  \n",
    "        {\n",
    "            \"$match\": {  \n",
    "                \"versions\": {\n",
    "                    \"$elemMatch\": {\n",
    "                        \"version\": \"v1\",\n",
    "                        \"created\": {\"$regex\": \"2025\"}\n",
    "                    }\n",
    "                }\n",
    "            }\n",
    "        },\n",
    "        {\n",
    "            \"$project\": {\n",
    "                \"title\": 1,\n",
    "                \"created\": \"$versions.created\",\n",
    "                \"_id\": 0\n",
    "            }\n",
    "        },\n",
    "        {\n",
    "            \"$limit\": 20\n",
    "        }\n",
    "    ]\n",
    ")\n",
    "\n",
    "print_resultados(resultado)\n",
    "    "
   ]
  },
  {
   "cell_type": "markdown",
   "id": "5ff80ce6-801d-4edb-a92a-420d06d8b996",
   "metadata": {},
   "source": [
    "## b. Devolver los títulos y los autores de artículos que pertenezcan a las categorías \"cs.AI\" o \"stat.ML\" y que tengan al menos tres autores. Mostrar solo esos campos y limitar a los primeros 10 resultados."
   ]
  },
  {
   "cell_type": "code",
   "execution_count": 37,
   "id": "95c3b24e-6b1a-47c8-b396-7bbfa735c648",
   "metadata": {},
   "outputs": [
    {
     "name": "stdout",
     "output_type": "stream",
     "text": [
      "1 .  {'authors': 'Tarik Hadzic, Rune Moller Jensen, Henrik Reif Andersen', 'title': 'Calculating Valid Domains for BDD-Based Interactive Configuration'}\n",
      "2 .  {'authors': 'Kristina Lerman, Anon Plangprasopchok and Chio Wong', 'title': 'Personalizing Image Search Results on Flickr'}\n",
      "3 .  {'authors': 'Stefano Bistarelli, Ugo Montanari, Francesca Rossi, Francesco Santini', 'title': 'Unicast and Multicast Qos Routing with Soft Constraint Logic Programming'}\n",
      "4 .  {'authors': 'Juliana S Bernardes, Alberto Davila, Vitor Santos Costa, Gerson\\n  Zaverucha', 'title': 'A study of structural properties on profiles HMMs'}\n",
      "5 .  {'authors': 'H. Satori, M. Harti and N. Chenfour', 'title': 'Introduction to Arabic Speech Recognition Using CMUSphinx System'}\n",
      "6 .  {'authors': 'H. Satori, M. Harti and N. Chenfour', 'title': 'Arabic Speech Recognition System using CMU-Sphinx4'}\n",
      "7 .  {'authors': 'J. Uglov, V. Schetinin, C. Maple', 'title': 'Comparing Robustness of Pairwise and Multiclass Neural-Network Systems\\n  for Face Recognition'}\n",
      "8 .  {'authors': 'Giorgio Terracina, Nicola Leone, Vincenzino Lio, Claudio Panetta', 'title': 'Experimenting with recursive queries in database and logic programming\\n  systems'}\n",
      "9 .  {'authors': 'S. Mohamed, D. Rubin, and T. Marwala', 'title': 'An Adaptive Strategy for the Classification of G-Protein Coupled\\n  Receptors'}\n",
      "10 .  {'authors': \"Christian Gagn\\\\'e (INFORMATIQUE WGZ INC.), Mich\\\\`ele Sebag (INRIA\\n  Futurs), Marc Schoenauer (INRIA Futurs), Marco Tomassini (ISI)\", 'title': 'Ensemble Learning for Free with Evolutionary Algorithms ?'}\n"
     ]
    }
   ],
   "source": [
    "resultado = collection.aggregate([\n",
    "    {\n",
    "        \"$match\": {\n",
    "            \"$or\":[\n",
    "                {\"categories\": {\"$regex\": \"cs\\\\.AI\"}},\n",
    "                {\"categories\": {\"$regex\": \"stat\\\\.ML\"}}\n",
    "            ],\n",
    "            \"authors_parsed\": {\"$exists\": True},\n",
    "            \"$expr\": {\"$gte\": [{\"$size\": \"$authors_parsed\"}, 3]} \n",
    "            \n",
    "        }\n",
    "    },\n",
    "    {\n",
    "        \"$project\":{\n",
    "            \"_id\": 0,\n",
    "            \"title\": 1,\n",
    "            \"authors\": 1\n",
    "            \n",
    "        }\n",
    "    },\n",
    "    {\n",
    "        \"$limit\": 10\n",
    "    }\n",
    "    \n",
    "])\n",
    "\n",
    "\n",
    "print_resultados(resultado)\n",
    "\n",
    "    "
   ]
  },
  {
   "cell_type": "markdown",
   "id": "a94fb8a7-4aba-4c0c-b53e-faadfb045464",
   "metadata": {},
   "source": [
    "## c. Devolver los títulos, las categorías y los enlaces al PDF de artículos que pertenezcan a la categoría \"hep-ph\" y tengan un DOI asignado. Mostrar solo esos campos y limitar a 15 resultados."
   ]
  },
  {
   "cell_type": "code",
   "execution_count": 38,
   "id": "89da4a31-6abc-4d5e-af20-743e3e5cff7f",
   "metadata": {},
   "outputs": [
    {
     "name": "stdout",
     "output_type": "stream",
     "text": [
      "1 .  {'title': 'Calculation of prompt diphoton production cross sections at Tevatron and\\n  LHC energies', 'categories': 'hep-ph', 'pdf_source': 'https://arxiv.org/pdf/0704.0001'}\n",
      "2 .  {'title': 'Crystal channeling of LHC forward protons with preserved distribution in\\n  phase space', 'categories': 'hep-ph', 'pdf_source': 'https://arxiv.org/pdf/0704.0031'}\n",
      "3 .  {'title': 'Lifetime of doubly charmed baryons', 'categories': 'hep-ph', 'pdf_source': 'https://arxiv.org/pdf/0704.0016'}\n",
      "4 .  {'title': 'Understanding the Flavor Symmetry Breaking and Nucleon Flavor-Spin\\n  Structure within Chiral Quark Model', 'categories': 'hep-ph', 'pdf_source': 'https://arxiv.org/pdf/0704.0029'}\n",
      "5 .  {'title': 'Scalar radius of the pion and zeros in the form factor', 'categories': 'hep-ph hep-lat nucl-th', 'pdf_source': 'https://arxiv.org/pdf/0704.0039'}\n",
      "6 .  {'title': 'Probing non-standard neutrino interactions with supernova neutrinos', 'categories': 'hep-ph', 'pdf_source': 'https://arxiv.org/pdf/0704.0032'}\n",
      "7 .  {'title': 'Strong Phase and $D^0-D^0bar$ mixing at BES-III', 'categories': 'hep-ex hep-ph', 'pdf_source': 'https://arxiv.org/pdf/0704.0120'}\n",
      "8 .  {'title': 'Energy density for chiral lattice fermions with chemical potential', 'categories': 'hep-lat hep-ph', 'pdf_source': 'https://arxiv.org/pdf/0704.0092'}\n",
      "9 .  {'title': 'Multiple Parton Scattering in Nuclei: Quark-quark Scattering', 'categories': 'hep-ph nucl-th', 'pdf_source': 'https://arxiv.org/pdf/0704.0106'}\n",
      "10 .  {'title': 'CP violation in beauty decays', 'categories': 'hep-ph hep-ex', 'pdf_source': 'https://arxiv.org/pdf/0704.0076'}\n",
      "11 .  {'title': 'Strong decays of charmed baryons', 'categories': 'hep-ph hep-ex nucl-ex', 'pdf_source': 'https://arxiv.org/pdf/0704.0075'}\n",
      "12 .  {'title': 'Long Distance Signaling Using Axion-like Particles', 'categories': 'hep-ph astro-ph hep-th', 'pdf_source': 'https://arxiv.org/pdf/0704.0490'}\n",
      "13 .  {'title': 'Direct photons and dileptons via color dipoles', 'categories': 'hep-ph nucl-th', 'pdf_source': 'https://arxiv.org/pdf/0704.0642'}\n",
      "14 .  {'title': 'Colliding Branes and Formation of Spacetime Singularities', 'categories': 'hep-th astro-ph gr-qc hep-ph', 'pdf_source': 'https://arxiv.org/pdf/0704.1311'}\n",
      "15 .  {'title': 'Deciphering top flavor violation at the LHC with B factories', 'categories': 'hep-ph', 'pdf_source': 'https://arxiv.org/pdf/0704.1482'}\n"
     ]
    }
   ],
   "source": [
    "resultado = collection.aggregate([\n",
    "    {\n",
    "        \"$match\":{\n",
    "            \"doi\": {\"$exists\": True, \"$ne\": None},\n",
    "            \"categories\": {\"$regex\": \"hep-ph\"}\n",
    "        }\n",
    "    },\n",
    "    {\n",
    "        \"$project\":{\n",
    "            \"_id\": 0,\n",
    "            \"title\": 1,\n",
    "            \"categories\": 1,\n",
    "            \"pdf_source\": 1\n",
    "        }\n",
    "    },\n",
    "    {\n",
    "        \"$limit\": 15\n",
    "    }\n",
    "])\n",
    "\n",
    "print_resultados(resultado)\n"
   ]
  },
  {
   "cell_type": "markdown",
   "id": "4bf3fc17-c85e-4633-9889-20dce1c1a8e5",
   "metadata": {},
   "source": [
    "## d. Devolver los títulos, nombres de los autores y la referencia de publicación (journal-ref) de los artículos que tengan un DOI asignado. Mostrar solo esos campos y ordenar los resultados alfabéticamente por título. Limitar a los primeros 20 resultados."
   ]
  },
  {
   "cell_type": "code",
   "execution_count": 39,
   "id": "55d9131b-6b88-4eb0-8dc9-c262f5f7c553",
   "metadata": {},
   "outputs": [
    {
     "name": "stdout",
     "output_type": "stream",
     "text": [
      "1 .  {'authors': 'Aleks Kissinger (University of Oxford), Vladimir Zamdzhiev (University\\n  of Oxford)', 'title': '!-Graphs with Trivial Overlap are Context-Free', 'journal-ref': 'EPTCS 181, 2015, pp. 16-31'}\n",
      "2 .  {'authors': 'Oscar Henriksson and Christopher Rosen', 'title': '\"$1k_F$\" Singularities and Finite Density ABJM Theory at Strong Coupling', 'journal-ref': None}\n",
      "3 .  {'authors': 'Olga Zagovora (1), Fabian Fl\\\\\"ock (1), Claudia Wagner (1 and 2) ((1)\\n  GESIS - Leibniz Institute for the Social Sciences, (2) University of\\n  Koblenz-Landau)', 'title': '\"(Weitergeleitet von Journalistin)\": The Gendered Presentation of\\n  Professions on Wikipedia', 'journal-ref': None}\n",
      "4 .  {'authors': 'Stavros Mouslopoulos and Antonios Papazoglou (Oxford University)', 'title': '\"+-+\" Brane Model Phenomenology', 'journal-ref': 'JHEP 0011 (2000) 018'}\n",
      "5 .  {'authors': 'K.S. Babu, Jogesh C. Pati and Hanns Stremnitzer', 'title': '\"A Hint From the Inter-Family Mass Hierarchy: Two Vector-Like Families\\n  in the TeV range\"', 'journal-ref': 'Phys.Rev.D51:2451-2462,1995'}\n",
      "6 .  {'authors': \"Paola Bacigaluppi, R\\\\'emi Abgrall and Svetlana Tokareva\", 'title': '\"A Posteriori\" Limited High Order and Robust Residual Distribution\\n  Schemes for Transient Simulations of Fluid Flows in Gas Dynamics', 'journal-ref': None}\n",
      "7 .  {'authors': 'V. Karimipour', 'title': '\"A Solvable Hamiltonian System\" Integrability and Action-Angle Variables', 'journal-ref': 'J.Math.Phys. 38 (1997) 1577-1582'}\n",
      "8 .  {'authors': 'Gabriella De Lucia', 'title': '\"Ab initio\" models of galaxy formation: successes and open problems', 'journal-ref': None}\n",
      "9 .  {'authors': 'Julie Nutini, Mark Schmidt and Warren Hare', 'title': '\"Active-set complexity\" of proximal gradient: How long does it take to\\n  find the sparsity pattern?', 'journal-ref': None}\n",
      "10 .  {'authors': 'Matthieu Gaudet and Steve Arscott', 'title': '\"Actuation at a distance\" of microelectromechanical systems using\\n  photoelectrowetting: proof-of-concept', 'journal-ref': 'Appl. Phys. Lett. 100, 224103 (2012)'}\n",
      "11 .  {'authors': 'Florentin Millour (MPIFR), Bruno Valat (FIZEAU), Romain Petrov\\n  (FIZEAU), Martin Vannier (FIZEAU)', 'title': '\"Advanced\" data reduction for the AMBER instrument', 'journal-ref': None}\n",
      "12 .  {'authors': 'Mo Houtti, Moyan Zhou, Loren Terveen, and Stevie Chancellor', 'title': '\"All of the White People Went First\": How Video Conferencing\\n  Consolidates Control and Exacerbates Workplace Bias', 'journal-ref': None}\n",
      "13 .  {'authors': 'Emilio Elizalde', 'title': '\"All that matter ... in one Big Bang ...,\" & other cosmological\\n  singularities', 'journal-ref': 'Galaxies 2018, 6, 25'}\n",
      "14 .  {'authors': 'Adan Cabello', 'title': '\"All versus nothing\" inseparability for two observers', 'journal-ref': 'Phys. Rev. Lett. 87 (2001) 010403'}\n",
      "15 .  {'authors': 'C. Cinelli, M. Barbieri, R. Perris, P. Mataloni and F. De Martini', 'title': '\"All-versus-nothing\" nonlocality test of quantum mechanics by two-photon\\n  hyperentanglement', 'journal-ref': 'Phys. Rev. Lett. 95, 240405 (2005)'}\n",
      "16 .  {'authors': 'Shashank Gupta, Debarshi Das, C. Jebarathinam, Arup Roy, Shounak Datta\\n  and A. S. Majumdar', 'title': '\"All-versus-nothing\" proof of genuine tripartite steering and\\n  entanglement certification in the two-sided device-independent scenario', 'journal-ref': 'Quantum Stud.: Math. Found. 9, 175-198 (2022)'}\n",
      "17 .  {'authors': 'Daniel Franzen (1), Saskia Nu\\\\~nez von Voigt (2), Peter S\\\\\"orries (1),\\n  Florian Tschorsch (2), Claudia M\\\\\"uller-Birn (1) ((1) Freie Universit\\\\\"at\\n  Berlin, (2) Technische Universit\\\\\"at Berlin)', 'title': '\"Am I Private and If So, how Many?\" - Communicating Privacy Guarantees\\n  of Differential Privacy with Risk Communication Formats', 'journal-ref': None}\n",
      "18 .  {'authors': 'Veera Vimpari, Annakaisa Kultima, Perttu H\\\\\"am\\\\\"al\\\\\"ainen, Christian\\n  Guckelsberger', 'title': '\"An Adapt-or-Die Type of Situation\": Perception, Adoption, and Use of\\n  Text-To-Image-Generation AI by Game Industry Professionals', 'journal-ref': 'Proc. ACM Hum.-Comput. Interact., Vol. 7, No. CHI PLAY, 2023,\\n  Article 379'}\n",
      "19 .  {'authors': 'Bingqing Yu, Jacopo Tagliabue, Ciro Greco and Federico Bianchi', 'title': '\"An Image is Worth a Thousand Features\": Scalable Product\\n  Representations for In-Session Type-Ahead Personalization', 'journal-ref': None}\n",
      "20 .  {'authors': 'K.S. Babu and S.M. Barr', 'title': '\"An SO(10) Solution to the Puzzle of Quark and Lepton Masses\"', 'journal-ref': 'Phys.Rev.Lett.75:2088-2091,1995'}\n"
     ]
    }
   ],
   "source": [
    "resultado = collection.aggregate([\n",
    "    {\n",
    "        \"$match\":{\n",
    "            \"doi\": {\"$exists\": True, \"$ne\": None}\n",
    "        }\n",
    "    },\n",
    "    {\n",
    "        \"$project\":{\n",
    "            \"_id\": 0,\n",
    "            \"title\": 1,\n",
    "            \"authors\": 1,\n",
    "            \"journal-ref\": 1\n",
    "        }\n",
    "    },\n",
    "    {\n",
    "      \"$sort\": {\"title\": 1}  \n",
    "    },\n",
    "    {\n",
    "        \"$limit\": 20\n",
    "    }\n",
    "])\n",
    "\n",
    "print_resultados(resultado)\n"
   ]
  },
  {
   "cell_type": "markdown",
   "id": "33b213c4-d7af-4fae-813e-cc4a5d0d70ba",
   "metadata": {},
   "source": [
    "## e. Devolver los títulos y la fecha de la primera versión (versions.created) de los artículos enviados entre los años 2010 y 2015. Mostrar solo esos campos y limitar a los primeros 15 resultados."
   ]
  },
  {
   "cell_type": "code",
   "execution_count": 40,
   "id": "eeb10b65-01d7-401d-afcc-4542ecde6b61",
   "metadata": {},
   "outputs": [
    {
     "name": "stdout",
     "output_type": "stream",
     "text": [
      "1. Titulo:A Comprehensive Analysis of Uncertainties Affecting the Stellar Mass -\n",
      "  Halo Mass Relation for 0<z<4\n",
      "   Fecha: Sun, 3 Jan 2010 19:43:29 GMT\n",
      "2. Titulo:News on PHOTOS Monte Carlo: gamma^* -> pi^+ pi^-(gamma) and K^\\pm ->\n",
      "  pi^+ pi^- e^\\pm nu (gamma)\n",
      "   Fecha: Mon, 4 Jan 2010 15:50:15 GMT\n",
      "3. Titulo:Pointing the SOFIA Telescope\n",
      "   Fecha: Fri, 1 Jan 2010 00:26:20 GMT\n",
      "4. Titulo:Can the excess in the FeXXVI Ly gamma line from the Galactic Center\n",
      "  provide evidence for 17 keV sterile neutrinos?\n",
      "   Fecha: Fri, 1 Jan 2010 06:19:31 GMT\n",
      "5. Titulo:Algebraic analysis of minimal representations\n",
      "   Fecha: Fri, 1 Jan 2010 11:10:35 GMT\n",
      "6. Titulo:Ionized gas outflow in the isolated S0 galaxy NGC 4460\n",
      "   Fecha: Mon, 4 Jan 2010 15:16:14 GMT\n",
      "7. Titulo:Ultimate Traces of Cellular Automata\n",
      "   Fecha: Fri, 1 Jan 2010 19:15:02 GMT\n",
      "8. Titulo:Diagnosis and Prediction of Tipping Points in Financial Markets: Crashes\n",
      "  and Rebounds\n",
      "   Fecha: Fri, 1 Jan 2010 22:54:25 GMT\n",
      "9. Titulo:Demographic Fluctuations versus Spatial Variation in the Competition\n",
      "  between Fast and Slow Dispersers\n",
      "   Fecha: Sat, 2 Jan 2010 01:05:28 GMT\n",
      "10. Titulo:Thermomagnetic instability in hot discs\n",
      "   Fecha: Mon, 4 Jan 2010 19:33:00 GMT\n",
      "11. Titulo:UV and EUV Instruments\n",
      "   Fecha: Sat, 2 Jan 2010 11:03:51 GMT\n",
      "12. Titulo:A Complete Method for Checking Hurwitz Stability of a Polytope of\n",
      "  Matrices\n",
      "   Fecha: Sat, 2 Jan 2010 13:16:14 GMT\n",
      "13. Titulo:Exploration of decaying dark matter in a left-right symmetric model\n",
      "   Fecha: Sun, 3 Jan 2010 06:57:37 GMT\n",
      "14. Titulo:Dark Matter: The evidence from astronomy, astrophysics and cosmology\n",
      "   Fecha: Mon, 4 Jan 2010 16:22:04 GMT\n",
      "15. Titulo:Pseudorandomness in Central Force Optimization\n",
      "   Fecha: Sat, 2 Jan 2010 16:39:24 GMT\n",
      "16. Titulo:On the Cartan matrix of Mackey algebras\n",
      "   Fecha: Sat, 2 Jan 2010 17:04:12 GMT\n",
      "17. Titulo:Fluctuating Twistor-Beam Solutions and Holographic Pre-Quantum\n",
      "  Kerr-Schild Geometry\n",
      "   Fecha: Sat, 2 Jan 2010 20:29:16 GMT\n",
      "18. Titulo:Isotropic magnetometry with simultaneous excitation of orientation and\n",
      "  alignment CPT resonances\n",
      "   Fecha: Sun, 3 Jan 2010 02:46:39 GMT\n",
      "19. Titulo:On a new notion of the solution to an ill-posed problem\n",
      "   Fecha: Sun, 3 Jan 2010 12:54:30 GMT\n",
      "20. Titulo:Interplay of quark and meson degrees of freedom in a near-threshold\n",
      "  resonance\n",
      "   Fecha: Sun, 3 Jan 2010 13:20:12 GMT\n"
     ]
    }
   ],
   "source": [
    "#Intengo query e)\n",
    "resultado = collection.find(\n",
    "    {\"versions.0.created\":\n",
    "     {\"$regex\":\"2010|2011|2012|2013|2014|2015\"}\n",
    "    },\n",
    "    {\"title\":1, \"versions\":1 ,\"_id\":0}).limit(20)\n",
    "i=1\n",
    "for doc in resultado:\n",
    "    titulo=doc.get(\"title\")\n",
    "    versiones=doc.get(\"versions\")\n",
    "    fecha=versiones[0].get(\"created\")\n",
    "    print(f\"{i}. Titulo:{titulo}\\n   Fecha: {fecha}\")\n",
    "    i+=1"
   ]
  },
  {
   "cell_type": "markdown",
   "id": "2ba63ec9-b179-4f8b-9202-4e0c3d295344",
   "metadata": {},
   "source": [
    "## f. Devolver los títulos, comentarios y reportes técnicos (report-no) de artículos que tengan comentarios definidos y no nulos. Mostrar solo esos campos, ordenando por fecha de actualización (update_date) en orden descendente. Limitar a 10 resultados.\n"
   ]
  },
  {
   "cell_type": "code",
   "execution_count": 42,
   "id": "d51499ec-edfb-49b7-ba87-ecf8cd337322",
   "metadata": {},
   "outputs": [
    {
     "name": "stdout",
     "output_type": "stream",
     "text": [
      "1 .  {'title': 'How to avoid (apparent) signaling in Bell tests', 'comments': 'Accepted version in Quantum', 'report-no': None, 'update_date': '2025-06-06'}\n",
      "2 .  {'title': 'Two closed geodesics on compact bumpy Finsler manifolds', 'comments': '10 pages. arXiv admin note: substantial text overlap with arXiv:1803.08350; text overlap with arXiv:1504.07007 by other authors', 'report-no': None, 'update_date': '2025-06-06'}\n",
      "3 .  {'title': 'Coupled reaction-diffusion equations on adjacent domains', 'comments': '54 pages, 3 figures', 'report-no': None, 'update_date': '2025-06-06'}\n",
      "4 .  {'title': 'Linear Scaling Quantum Transport Methodologies', 'comments': '54 pages, 31 figures, Invited Review of Physics Reports', 'report-no': None, 'update_date': '2025-06-06'}\n",
      "5 .  {'title': 'Spin Transport in Hydrogenated Graphene', 'comments': '10 pages, 8 figures, accepted for publication in 2D Materials as a Topical Review', 'report-no': None, 'update_date': '2025-06-06'}\n",
      "6 .  {'title': 'Hamilton Cycles in Random Graphs: a bibliography', 'comments': 'We would like to keep this bibliography up to date. If we have missed any papers, please let us know', 'report-no': None, 'update_date': '2025-06-06'}\n",
      "7 .  {'title': 'Some algebraic properties of the extended graph of the bipartite double of Odd graphs', 'comments': 'arXiv admin note: substantial text overlap with arXiv:1905.10525', 'report-no': None, 'update_date': '2025-06-06'}\n",
      "8 .  {'title': 'Secure and secret cooperation in robotic swarms', 'comments': '32 pages, 6 figures, submitted to Science Robotics', 'report-no': None, 'update_date': '2025-06-06'}\n",
      "9 .  {'title': 'On a scalar field of time and electromagnetism', 'comments': 'Electrogravity, Charge Gravity, Muon / Electron mass ratio, Tau / Muon, W/Z, W/Tau, Bottom Quark Pole energy / Muon, exact Fine Structure Constant, Mass hierarchy, possible 5th force. This paper has been independently reviewed 4 times & 3 theorems are included, 2 in the text, 1 in an appendix. The coefficients that lead to mass ratios are better understood as part of the Steiner trees theory', 'report-no': None, 'update_date': '2025-06-06'}\n",
      "10 .  {'title': 'Model of the Electrostatics and Tunneling Current of Metal-Graphene Junctions and Metal-Insulator-Graphene Heterostructures', 'comments': '4 pages, 8 figures', 'report-no': None, 'update_date': '2025-06-06'}\n"
     ]
    }
   ],
   "source": [
    "resultado = collection.find(\n",
    "    {\"comments\":\n",
    "     {\"$exists\":True, \"$ne\":None}\n",
    "    },\n",
    "    {\"title\":1, \"comments\":1, \"update_date\":1 ,\"report-no\":1, \"_id\":0}).sort(\"update_date\", -1).limit(10)\n",
    "print_resultados(resultado)\n"
   ]
  },
  {
   "cell_type": "markdown",
   "id": "85ddd148-4788-4ed7-94d4-47cf286553f7",
   "metadata": {},
   "source": [
    "# 3. Parte"
   ]
  },
  {
   "cell_type": "markdown",
   "id": "84e12c67-bca7-4cca-8149-e988ad85ad13",
   "metadata": {},
   "source": [
    "## a. La consistencia de los datos en los 3 nodos replicados, por ejemplo, posterior a la inserción, actualización y/o eliminación de datos, los datos deben permanecer siempre consistentes."
   ]
  },
  {
   "cell_type": "code",
   "execution_count": null,
   "id": "6ea9440b-54e4-4b1a-ba2a-be1658a1d158",
   "metadata": {},
   "outputs": [],
   "source": []
  },
  {
   "cell_type": "markdown",
   "id": "8d805342-1e3c-4291-93a6-a6bcd154876a",
   "metadata": {},
   "source": [
    "## b. La alta disponibilidad, por ejemplo, bajando el nodo local para que responda alguno de los nodos replicados sin que el usuario se percate del problema."
   ]
  },
  {
   "cell_type": "code",
   "execution_count": null,
   "id": "0dbcfe13-cc68-4268-b714-90a7be003a85",
   "metadata": {},
   "outputs": [],
   "source": []
  }
 ],
 "metadata": {
  "kernelspec": {
   "display_name": "Python 3 (ipykernel)",
   "language": "python",
   "name": "python3"
  },
  "language_info": {
   "codemirror_mode": {
    "name": "ipython",
    "version": 3
   },
   "file_extension": ".py",
   "mimetype": "text/x-python",
   "name": "python",
   "nbconvert_exporter": "python",
   "pygments_lexer": "ipython3",
   "version": "3.13.3"
  }
 },
 "nbformat": 4,
 "nbformat_minor": 5
}
