{
 "cells": [
  {
   "cell_type": "code",
   "execution_count": null,
   "id": "b81cbcec",
   "metadata": {
    "vscode": {
     "languageId": "plaintext"
    }
   },
   "outputs": [],
   "source": [
    "from pymongo import MongoClient\n",
    "\n",
    "client = MongoClient(\n",
    "    \"mongodb://mongo1:30001,mongo2:30002,mongo3:30003/?replicaSet=my-replica-set\"\n",
    ")\n",
    "\n",
    "db = client.arxiv_db\n",
    "\n",
    "# 1. Conteo total\n",
    "total = db.articles.estimated_document_count()\n",
    "print(f\"📊 Total documentos: {total:,}\")\n",
    "\n",
    "# 2. Verificar consistencia entre nodos\n",
    "for member in client.admin.command(\"replSetGetStatus\")[\"members\"]:\n",
    "    print(f\"🔹 Nodo {member['name']}: {'✅ HEALTHY' if member['health'] == 1 else '❌ PROBLEM'}\")\n",
    "\n",
    "# 3. Verificar muestras por categoría\n",
    "print(\"\\n📝 Muestra de documentos cs.AI:\")\n",
    "for doc in db.articles.find({\"categories\": \"cs.AI\"}, {\"_id\": 0, \"title\": 1}).limit(3):\n",
    "    print(f\" - {doc['title']}\")\n",
    "\n",
    "# 4. Verificar campos importantes\n",
    "print(\"\\n🔍 Verificación de campos críticos:\")\n",
    "stats = {\n",
    "    \"Con DOI\": db.articles.count_documents({\"doi\": {\"$exists\": True}}),\n",
    "    \"Con PDF\": db.articles.count_documents({\"pdf_source\": {\"$exists\": True}}),\n",
    "    \"Con autores\": db.articles.count_documents({\"authors\": {\"$exists\": True, \"$ne\": []}})\n",
    "}\n",
    "for k, v in stats.items():\n",
    "    print(f\" - {k}: {v:,} ({v/total:.1%})\")"
   ]
  }
 ],
 "metadata": {
  "language_info": {
   "name": "python"
  }
 },
 "nbformat": 4,
 "nbformat_minor": 5
}
