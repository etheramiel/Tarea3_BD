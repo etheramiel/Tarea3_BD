{
 "cells": [
  {
   "cell_type": "code",
   "execution_count": 26,
   "id": "a9aa98a9-8b28-483f-871a-3b5abae35e72",
   "metadata": {},
   "outputs": [
    {
     "data": {
      "text/plain": [
       "{'nIndexesWas': 1,\n",
       " 'ns': 'arxiv_db.articles',\n",
       " 'ok': 1.0,\n",
       " '$clusterTime': {'clusterTime': Timestamp(1749605248, 1),\n",
       "  'signature': {'hash': b'\\x00\\x00\\x00\\x00\\x00\\x00\\x00\\x00\\x00\\x00\\x00\\x00\\x00\\x00\\x00\\x00\\x00\\x00\\x00\\x00',\n",
       "   'keyId': 0}},\n",
       " 'operationTime': Timestamp(1749605248, 1)}"
      ]
     },
     "execution_count": 26,
     "metadata": {},
     "output_type": "execute_result"
    }
   ],
   "source": [
    "# db.drop_collection('articles')"
   ]
  },
  {
   "cell_type": "code",
   "execution_count": null,
   "id": "65e231d4-2a45-46e7-87cf-b3df97b93a3c",
   "metadata": {},
   "outputs": [
    {
     "name": "stdout",
     "output_type": "stream",
     "text": [
      "Documentos en archivo original: 2754926\n"
     ]
    }
   ],
   "source": [
    "import json\n",
    "\n",
    "def count_json_lines(file_path):\n",
    "    with open(file_path, 'r', encoding='utf-8') as f:\n",
    "        return sum(1 for line in f)\n",
    "\n",
    "original_file = \"arxiv-metadata-oai-snapshot.json\"\n",
    "total_original = count_json_lines(original_file)\n",
    "print(f\"Documentos en archivo original: {total_original}\")"
   ]
  },
  {
   "cell_type": "code",
   "execution_count": 2,
   "id": "e1dc1a9a-6049-49c3-a60c-5e73c9265107",
   "metadata": {},
   "outputs": [
    {
     "name": "stdout",
     "output_type": "stream",
     "text": [
      "arxiv-part-00.json: 275492 documentos\n",
      "arxiv-part-01.json: 275492 documentos\n",
      "arxiv-part-02.json: 275492 documentos\n",
      "arxiv-part-03.json: 275492 documentos\n",
      "arxiv-part-04.json: 275492 documentos\n",
      "arxiv-part-05.json: 275492 documentos\n",
      "arxiv-part-06.json: 275492 documentos\n",
      "arxiv-part-07.json: 275492 documentos\n",
      "arxiv-part-08.json: 275492 documentos\n",
      "arxiv-part-09.json: 275492 documentos\n",
      "arxiv-part-10.json: 6 documentos\n",
      "\n",
      "Total en archivos particionados: 2754926\n",
      "Diferencia con original: 0\n"
     ]
    }
   ],
   "source": [
    "archivos = [f\"arxiv-part-{i:02d}.json\" for i in range(11)]  # Ajusta el rango según tus archivos\n",
    "\n",
    "total_particionado = 0\n",
    "for archivo in archivos:\n",
    "    count = count_json_lines(archivo)\n",
    "    total_particionado += count\n",
    "    print(f\"{archivo}: {count} documentos\")\n",
    "\n",
    "print(f\"\\nTotal en archivos particionados: {total_particionado}\")\n",
    "print(f\"Diferencia con original: {total_original - total_particionado}\")"
   ]
  },
  {
   "cell_type": "code",
   "execution_count": 4,
   "id": "46ba28b0-f0d4-44b8-ae0e-42f46c34dd45",
   "metadata": {},
   "outputs": [
    {
     "name": "stdout",
     "output_type": "stream",
     "text": [
      "Documentos en MongoDB: 2754926\n"
     ]
    }
   ],
   "source": [
    "from pymongo import MongoClient\n",
    "\n",
    "client = MongoClient(\"mongodb://mongo1:30001,mongo2:30002,mongo3:30003/?replicaSet=my-replica-set\")\n",
    "db = client[\"arxiv_db\"]\n",
    "collection = db[\"articles\"]\n",
    "\n",
    "# Conteo total\n",
    "total_mongo = collection.count_documents({})\n",
    "print(f\"Documentos en MongoDB: {total_mongo}\")\n",
    "\n",
    "# Verificar por archivo (si agregaste un campo de origen)\n",
    "if 'source_file' in collection.find_one({}, {'source_file': 1}):\n",
    "    for archivo in archivos:\n",
    "        count = collection.count_documents({\"source_file\": archivo})\n",
    "        print(f\"{archivo}: {count} documentos en MongoDB\")"
   ]
  },
  {
   "cell_type": "code",
   "execution_count": null,
   "id": "b5cb79d1-2377-403f-9e23-d6098a96a540",
   "metadata": {},
   "outputs": [],
   "source": []
  }
 ],
 "metadata": {
  "kernelspec": {
   "display_name": "Python 3 (ipykernel)",
   "language": "python",
   "name": "python3"
  },
  "language_info": {
   "codemirror_mode": {
    "name": "ipython",
    "version": 3
   },
   "file_extension": ".py",
   "mimetype": "text/x-python",
   "name": "python",
   "nbconvert_exporter": "python",
   "pygments_lexer": "ipython3",
   "version": "3.13.3"
  }
 },
 "nbformat": 4,
 "nbformat_minor": 5
}
