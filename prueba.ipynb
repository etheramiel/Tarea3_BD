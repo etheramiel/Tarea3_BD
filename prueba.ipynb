{
 "cells": [
  {
   "cell_type": "code",
   "execution_count": 6,
   "id": "b81cbcec",
   "metadata": {
    "vscode": {
     "languageId": "plaintext"
    }
   },
   "outputs": [
    {
     "name": "stdout",
     "output_type": "stream",
     "text": [
      "📊 Total documentos: 550,984\n",
      "🔹 Nodo mongo1:30001: ✅ HEALTHY\n",
      "🔹 Nodo mongo2:30002: ✅ HEALTHY\n",
      "🔹 Nodo mongo3:30003: ✅ HEALTHY\n",
      "\n",
      "📝 Muestra de documentos cs.AI:\n",
      " - Calculating Valid Domains for BDD-Based Interactive Configuration\n",
      " - A study of structural properties on profiles HMMs\n",
      " - Bayesian approach to rough set\n",
      "\n",
      "🔍 Verificación de campos críticos:\n"
     ]
    }
   ],
   "source": [
    "from pymongo import MongoClient\n",
    "\n",
    "client = MongoClient(\n",
    "    \"mongodb://mongo1:30001,mongo2:30002,mongo3:30003/?replicaSet=my-replica-set\"\n",
    ")\n",
    "\n",
    "db = client.arxiv_db\n",
    "\n",
    "# 1. Conteo total\n",
    "total = db.articles.estimated_document_count()\n",
    "print(f\"📊 Total documentos: {total:,}\")\n",
    "\n",
    "# 2. Verificar consistencia entre nodos\n",
    "for member in client.admin.command(\"replSetGetStatus\")[\"members\"]:\n",
    "    print(f\"🔹 Nodo {member['name']}: {'✅ HEALTHY' if member['health'] == 1 else '❌ PROBLEM'}\")\n",
    "\n",
    "# 3. Verificar muestras por categoría\n",
    "print(\"\\n📝 Muestra de documentos cs.AI:\")\n",
    "for doc in db.articles.find({\"categories\": \"cs.AI\"}, {\"_id\": 0, \"title\": 1}).limit(3):\n",
    "    print(f\" - {doc['title']}\")\n",
    "\n",
    "# 4. Verificar campos importantes\n",
    "print(\"\\n🔍 Verificación de campos críticos:\")\n",
    "stats = {\n",
    "    \"Con DOI\": db.articles.count_documents({\"doi\": {\"$exists\": True}}),\n",
    "    \"Con PDF\": db.articles.count_documents({\"pdf_source\": {\"$exists\": True}}),\n",
    "    \"Con autores\": db.articles.count_documents({\"authors\": {\"$exists\": True, \"$ne\": []}})\n",
    "}\n",
    "# for k, v in stats.items():\n",
    "#     print(f\" - {k}: {v:,} ({v/total:.1%})\")"
   ]
  },
  {
   "cell_type": "code",
   "execution_count": 2,
   "id": "a9aa98a9-8b28-483f-871a-3b5abae35e72",
   "metadata": {},
   "outputs": [
    {
     "data": {
      "text/plain": [
       "{'nIndexesWas': 1,\n",
       " 'ns': 'arxiv_db.articles',\n",
       " 'ok': 1.0,\n",
       " '$clusterTime': {'clusterTime': Timestamp(1749588072, 1),\n",
       "  'signature': {'hash': b'\\x00\\x00\\x00\\x00\\x00\\x00\\x00\\x00\\x00\\x00\\x00\\x00\\x00\\x00\\x00\\x00\\x00\\x00\\x00\\x00',\n",
       "   'keyId': 0}},\n",
       " 'operationTime': Timestamp(1749588072, 1)}"
      ]
     },
     "execution_count": 2,
     "metadata": {},
     "output_type": "execute_result"
    }
   ],
   "source": [
    "db.drop_collection('articles')"
   ]
  },
  {
   "cell_type": "code",
   "execution_count": null,
   "id": "65e231d4-2a45-46e7-87cf-b3df97b93a3c",
   "metadata": {},
   "outputs": [],
   "source": []
  }
 ],
 "metadata": {
  "kernelspec": {
   "display_name": "Python 3 (ipykernel)",
   "language": "python",
   "name": "python3"
  },
  "language_info": {
   "codemirror_mode": {
    "name": "ipython",
    "version": 3
   },
   "file_extension": ".py",
   "mimetype": "text/x-python",
   "name": "python",
   "nbconvert_exporter": "python",
   "pygments_lexer": "ipython3",
   "version": "3.13.3"
  }
 },
 "nbformat": 4,
 "nbformat_minor": 5
}
