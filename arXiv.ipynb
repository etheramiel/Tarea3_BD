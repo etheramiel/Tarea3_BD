{
 "cells": [
  {
   "cell_type": "code",
   "execution_count": 1,
   "id": "dca4f66b-55ff-4f9f-87c9-0e2fa416bfb8",
   "metadata": {},
   "outputs": [],
   "source": [
    "import json\n",
    "from pymongo import MongoClient\n",
    "from concurrent.futures import ThreadPoolExecutor\n",
    "from tqdm import tqdm"
   ]
  },
  {
   "cell_type": "code",
   "execution_count": 2,
   "id": "deb52b52-1b1a-477e-a65b-990fdfefc295",
   "metadata": {},
   "outputs": [],
   "source": [
    "# === Configuración ===\n",
    "# json_file_path = \"arxiv-metadata-oai-snapshot.json\"\n",
    "batch_size = 2000\n",
    "max_workers = 4  # Ajusta según tu CPU y MongoDB\n",
    "archivos = [\"arxiv-part-aa\", \"arxiv-part-ab\", \"arxiv-part-ac\", \"arxiv-part-ad\", \"arxiv-part-ae\", \"arxiv-part-af\"]"
   ]
  },
  {
   "cell_type": "code",
   "execution_count": 3,
   "id": "9f6932e2-13f1-4607-b127-11aa8c5e03f8",
   "metadata": {},
   "outputs": [],
   "source": [
    "# === Conectar a MongoDB ===\n",
    "client = MongoClient(\"mongodb://localhost:27017/\")\n",
    "db = client[\"arxiv_db\"]\n",
    "collection = db[\"articles\"]"
   ]
  },
  {
   "cell_type": "code",
   "execution_count": 4,
   "id": "cd2cf907-082f-4580-8ad7-625bc313cb3f",
   "metadata": {},
   "outputs": [],
   "source": [
    "# === Función para insertar lote ===\n",
    "def insert_batch(batch):\n",
    "    try:\n",
    "        collection.insert_many(batch, ordered=False)\n",
    "    except Exception as e:\n",
    "        print(\"Error al insertar batch:\", e)"
   ]
  },
  {
   "cell_type": "code",
   "execution_count": 5,
   "id": "f4fbf1b3-952b-4ccd-bee1-5928d340335a",
   "metadata": {},
   "outputs": [],
   "source": [
    "# === Contar líneas para tqdm ===\n",
    "def count_lines(filepath):\n",
    "    with open(filepath, 'r', encoding='utf-8') as f:\n",
    "        return sum(1 for _ in f)\n",
    "total_lines = 0\n",
    "for i in archivos:\n",
    "    total_lines += count_lines(i)\n"
   ]
  },
  {
   "cell_type": "code",
   "execution_count": null,
   "id": "f85753b3-faf8-4f40-bc2a-cdd6134cd019",
   "metadata": {},
   "outputs": [
    {
     "name": "stdout",
     "output_type": "stream",
     "text": [
      "📂 Cargando arxiv-part-aa...\n"
     ]
    },
    {
     "name": "stderr",
     "output_type": "stream",
     "text": [
      "Cargando arxiv-part-aa: 500000it [00:15, 31866.48it/s]\n"
     ]
    },
    {
     "name": "stdout",
     "output_type": "stream",
     "text": [
      "Error al insertar batch: localhost:27017: [Errno 111] Connection refused (configured timeouts: socketTimeoutMS: 20000.0ms, connectTimeoutMS: 20000.0ms), Timeout: 30s, Topology Description: <TopologyDescription id: 6847b37fae4431c716338c19, topology_type: Unknown, servers: [<ServerDescription ('localhost', 27017) server_type: Unknown, rtt: None, error=AutoReconnect('localhost:27017: [Errno 111] Connection refused (configured timeouts: socketTimeoutMS: 20000.0ms, connectTimeoutMS: 20000.0ms)')>]>\n",
      "Error al insertar batch: localhost:27017: [Errno 111] Connection refused (configured timeouts: socketTimeoutMS: 20000.0ms, connectTimeoutMS: 20000.0ms), Timeout: 30s, Topology Description: <TopologyDescription id: 6847b37fae4431c716338c19, topology_type: Unknown, servers: [<ServerDescription ('localhost', 27017) server_type: Unknown, rtt: None, error=AutoReconnect('localhost:27017: [Errno 111] Connection refused (configured timeouts: socketTimeoutMS: 20000.0ms, connectTimeoutMS: 20000.0ms)')>]>\n",
      "Error al insertar batch: localhost:27017: [Errno 111] Connection refused (configured timeouts: socketTimeoutMS: 20000.0ms, connectTimeoutMS: 20000.0ms), Timeout: 30s, Topology Description: <TopologyDescription id: 6847b37fae4431c716338c19, topology_type: Unknown, servers: [<ServerDescription ('localhost', 27017) server_type: Unknown, rtt: None, error=AutoReconnect('localhost:27017: [Errno 111] Connection refused (configured timeouts: socketTimeoutMS: 20000.0ms, connectTimeoutMS: 20000.0ms)')>]>\n",
      "Error al insertar batch: localhost:27017: [Errno 111] Connection refused (configured timeouts: socketTimeoutMS: 20000.0ms, connectTimeoutMS: 20000.0ms), Timeout: 30s, Topology Description: <TopologyDescription id: 6847b37fae4431c716338c19, topology_type: Unknown, servers: [<ServerDescription ('localhost', 27017) server_type: Unknown, rtt: None, error=AutoReconnect('localhost:27017: [Errno 111] Connection refused (configured timeouts: socketTimeoutMS: 20000.0ms, connectTimeoutMS: 20000.0ms)')>]>\n",
      "Error al insertar batch: localhost:27017: [Errno 111] Connection refused (configured timeouts: socketTimeoutMS: 20000.0ms, connectTimeoutMS: 20000.0ms), Timeout: 30s, Topology Description: <TopologyDescription id: 6847b37fae4431c716338c19, topology_type: Unknown, servers: [<ServerDescription ('localhost', 27017) server_type: Unknown, rtt: None, error=AutoReconnect('localhost:27017: [Errno 111] Connection refused (configured timeouts: socketTimeoutMS: 20000.0ms, connectTimeoutMS: 20000.0ms)')>]>\n",
      "Error al insertar batch: localhost:27017: [Errno 111] Connection refused (configured timeouts: socketTimeoutMS: 20000.0ms, connectTimeoutMS: 20000.0ms), Timeout: 30s, Topology Description: <TopologyDescription id: 6847b37fae4431c716338c19, topology_type: Unknown, servers: [<ServerDescription ('localhost', 27017) server_type: Unknown, rtt: None, error=AutoReconnect('localhost:27017: [Errno 111] Connection refused (configured timeouts: socketTimeoutMS: 20000.0ms, connectTimeoutMS: 20000.0ms)')>]>\n",
      "Error al insertar batch: localhost:27017: [Errno 111] Connection refused (configured timeouts: socketTimeoutMS: 20000.0ms, connectTimeoutMS: 20000.0ms), Timeout: 30s, Topology Description: <TopologyDescription id: 6847b37fae4431c716338c19, topology_type: Unknown, servers: [<ServerDescription ('localhost', 27017) server_type: Unknown, rtt: None, error=AutoReconnect('localhost:27017: [Errno 111] Connection refused (configured timeouts: socketTimeoutMS: 20000.0ms, connectTimeoutMS: 20000.0ms)')>]>\n",
      "Error al insertar batch: localhost:27017: [Errno 111] Connection refused (configured timeouts: socketTimeoutMS: 20000.0ms, connectTimeoutMS: 20000.0ms), Timeout: 30s, Topology Description: <TopologyDescription id: 6847b37fae4431c716338c19, topology_type: Unknown, servers: [<ServerDescription ('localhost', 27017) server_type: Unknown, rtt: None, error=AutoReconnect('localhost:27017: [Errno 111] Connection refused (configured timeouts: socketTimeoutMS: 20000.0ms, connectTimeoutMS: 20000.0ms)')>]>\n",
      "Error al insertar batch:Error al insertar batch: localhost:27017: [Errno 111] Connection refused (configured timeouts: socketTimeoutMS: 20000.0ms, connectTimeoutMS: 20000.0ms), Timeout: 30s, Topology Description: <TopologyDescription id: 6847b37fae4431c716338c19, topology_type: Unknown, servers: [<ServerDescription ('localhost', 27017) server_type: Unknown, rtt: None, error=AutoReconnect('localhost:27017: [Errno 111] Connection refused (configured timeouts: socketTimeoutMS: 20000.0ms, connectTimeoutMS: 20000.0ms)')>]>\n",
      "Error al insertar batch: localhost:27017: [Errno 111] Connection refused (configured timeouts: socketTimeoutMS: 20000.0ms, connectTimeoutMS: 20000.0ms), Timeout: 30s, Topology Description: <TopologyDescription id: 6847b37fae4431c716338c19, topology_type: Unknown, servers: [<ServerDescription ('localhost', 27017) server_type: Unknown, rtt: None, error=AutoReconnect('localhost:27017: [Errno 111] Connection refused (configured timeouts: socketTimeoutMS: 20000.0ms, connectTimeoutMS: 20000.0ms)')>]>\n",
      "Error al insertar batch: localhost:27017: [Errno 111] Connection refused (configured timeouts: socketTimeoutMS: 20000.0ms, connectTimeoutMS: 20000.0ms), Timeout: 30s, Topology Description: <TopologyDescription id: 6847b37fae4431c716338c19, topology_type: Unknown, servers: [<ServerDescription ('localhost', 27017) server_type: Unknown, rtt: None, error=AutoReconnect('localhost:27017: [Errno 111] Connection refused (configured timeouts: socketTimeoutMS: 20000.0ms, connectTimeoutMS: 20000.0ms)')>]>\n",
      " localhost:27017: [Errno 111] Connection refused (configured timeouts: socketTimeoutMS: 20000.0ms, connectTimeoutMS: 20000.0ms), Timeout: 30s, Topology Description: <TopologyDescription id: 6847b37fae4431c716338c19, topology_type: Unknown, servers: [<ServerDescription ('localhost', 27017) server_type: Unknown, rtt: None, error=AutoReconnect('localhost:27017: [Errno 111] Connection refused (configured timeouts: socketTimeoutMS: 20000.0ms, connectTimeoutMS: 20000.0ms)')>]>\n"
     ]
    }
   ],
   "source": [
    "# === Lectura + carga paralela ===\n",
    "for archivo in archivos:\n",
    "    print(f\"📂 Cargando {archivo}...\")\n",
    "    with open(archivo, 'r', encoding='utf-8') as f:\n",
    "        batch = []\n",
    "        futures = []\n",
    "        with ThreadPoolExecutor(max_workers=max_workers) as executor:\n",
    "            for line in tqdm(f, desc=f\"Cargando {archivo}\"):\n",
    "                try:\n",
    "                    record = json.loads(line)\n",
    "                    record[\"pdf_source\"] = f\"https://arxiv.org/pdf/{record['id']}\"\n",
    "                    batch.append(record)\n",
    "                    if len(batch) >= batch_size:\n",
    "                        # Ejecutar carga en paralelo\n",
    "                        future = executor.submit(insert_batch, batch)\n",
    "                        futures.append(future)\n",
    "                        batch = []\n",
    "                except json.JSONDecodeError:\n",
    "                    continue\n",
    "\n",
    "            # Cargar el último batch\n",
    "            if batch:\n",
    "                futures.append(executor.submit(insert_batch, batch))\n",
    "\n",
    "        # Esperar que terminen todos los batches de este archivo\n",
    "        for future in futures:\n",
    "            future.result()\n",
    "    print(f\"✅ {archivo} cargado completamente.\\n\")\n",
    "\n",
    "print(\"🎉 Todos los archivos fueron cargados.\")"
   ]
  },
  {
   "cell_type": "code",
   "execution_count": 13,
   "id": "bd426c95-495f-4859-b0d1-d6603c19d047",
   "metadata": {},
   "outputs": [
    {
     "name": "stdout",
     "output_type": "stream",
     "text": [
      "🗑️ Todos los documentos eliminados.\n"
     ]
    }
   ],
   "source": [
    "'''\n",
    "from pymongo import MongoClient\n",
    "\n",
    "client = MongoClient(\"mongodb://localhost:27018/\")\n",
    "db = client[\"arxiv_db\"]\n",
    "collection = db[\"articles\"]\n",
    "\n",
    "# ⚠️ Eliminar todos los documentos\n",
    "collection.delete_many({})\n",
    "print(\"🗑️ Todos los documentos eliminados.\")\n",
    "'''"
   ]
  },
  {
   "cell_type": "code",
   "execution_count": null,
   "id": "b21d42b4-cefd-439d-9526-3400ef5bc645",
   "metadata": {},
   "outputs": [],
   "source": []
  }
 ],
 "metadata": {
  "kernelspec": {
   "display_name": "Python 3 (ipykernel)",
   "language": "python",
   "name": "python3"
  },
  "language_info": {
   "codemirror_mode": {
    "name": "ipython",
    "version": 3
   },
   "file_extension": ".py",
   "mimetype": "text/x-python",
   "name": "python",
   "nbconvert_exporter": "python",
   "pygments_lexer": "ipython3",
   "version": "3.13.3"
  }
 },
 "nbformat": 4,
 "nbformat_minor": 5
}
