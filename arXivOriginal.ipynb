{
 "cells": [
  {
   "cell_type": "code",
   "execution_count": 110,
   "id": "dca4f66b-55ff-4f9f-87c9-0e2fa416bfb8",
   "metadata": {},
   "outputs": [],
   "source": [
    "import json\n",
    "from pymongo import MongoClient\n",
    "from concurrent.futures import ThreadPoolExecutor\n",
    "from tqdm import tqdm\n",
    "import time"
   ]
  },
  {
   "cell_type": "code",
   "execution_count": 111,
   "id": "deb52b52-1b1a-477e-a65b-990fdfefc295",
   "metadata": {},
   "outputs": [],
   "source": [
    "# === Configuración ===\n",
    "json_file_path = \"arxiv-part-10.json\"\n",
    "batch_size = 2000\n",
    "max_workers = 4  # Ajusta según tu CPU y MongoDB"
   ]
  },
  {
   "cell_type": "code",
   "execution_count": 112,
   "id": "9f6932e2-13f1-4607-b127-11aa8c5e03f8",
   "metadata": {},
   "outputs": [],
   "source": [
    "# === Conectar a MongoDB ===\n",
    "client = MongoClient(\"mongodb://mongo1:30001,mongo2:30002,mongo3:30003/?replicaSet=my-replica-set&readPreference=primary&appname=MongoDB%20Compass&ssl=false\")\n",
    "db = client[\"arxiv_db\"]\n",
    "collection = db[\"articles\"]\n",
    "archivos = [\"arxiv-part-00.json\", \"arxiv-part-01.json\", \"arxiv-part-02.json\", \"arxiv-part-03.json\", \"arxiv-part-04.json\", \"arxiv-part-05.json\", \"arxiv-part-06.json\", \"arxiv-part-07.json\", \"arxiv-part-08.json\", \"arxiv-part-09.json\", \"arxiv-part-10.json\"]"
   ]
  },
  {
   "cell_type": "code",
   "execution_count": 113,
   "id": "cd2cf907-082f-4580-8ad7-625bc313cb3f",
   "metadata": {},
   "outputs": [],
   "source": [
    "# === Función para insertar lote ===\n",
    "def insert_batch(batch):\n",
    "    try:\n",
    "        collection.insert_many(batch, ordered=False)\n",
    "    except Exception as e:\n",
    "        print(\"Error al insertar batch:\", e)"
   ]
  },
  {
   "cell_type": "code",
   "execution_count": 114,
   "id": "f4fbf1b3-952b-4ccd-bee1-5928d340335a",
   "metadata": {},
   "outputs": [],
   "source": [
    "# === Contar líneas para tqdm ===\n",
    "def count_lines(filepath):\n",
    "    with open(filepath, 'r', encoding='utf-8') as f:\n",
    "        return sum(1 for _ in f)\n",
    "\n",
    "total_lines = count_lines(json_file_path)"
   ]
  },
  {
   "cell_type": "code",
   "execution_count": null,
   "id": "f85753b3-faf8-4f40-bc2a-cdd6134cd019",
   "metadata": {},
   "outputs": [
    {
     "name": "stderr",
     "output_type": "stream",
     "text": [
      "Cargando arxiv-part-00.json: 276984it [00:32, 8431.38it/s]                                                                                                            \n"
     ]
    },
    {
     "name": "stdout",
     "output_type": "stream",
     "text": [
      "\n",
      "✅ Carga paralela completa para arxiv-part-00.json. \n",
      "El script va a pausar por 70 segundos...\n"
     ]
    },
    {
     "name": "stderr",
     "output_type": "stream",
     "text": [
      "Pausa: 100%|█████████████████████████████████████████████████████████████████████████████████████████████████████████████████████████| 60/60 [01:00<00:00,  1.00s/seg]\n"
     ]
    },
    {
     "name": "stdout",
     "output_type": "stream",
     "text": [
      "¡El script continuó después de la pausa!\n"
     ]
    },
    {
     "name": "stderr",
     "output_type": "stream",
     "text": [
      "Cargando arxiv-part-01.json: 276984it [00:36, 7664.18it/s]                                                                                                            \n"
     ]
    },
    {
     "name": "stdout",
     "output_type": "stream",
     "text": [
      "\n",
      "✅ Carga paralela completa para arxiv-part-01.json. \n",
      "El script va a pausar por 70 segundos...\n"
     ]
    },
    {
     "name": "stderr",
     "output_type": "stream",
     "text": [
      "Pausa: 100%|█████████████████████████████████████████████████████████████████████████████████████████████████████████████████████████| 60/60 [01:00<00:00,  1.00s/seg]\n"
     ]
    },
    {
     "name": "stdout",
     "output_type": "stream",
     "text": [
      "¡El script continuó después de la pausa!\n"
     ]
    },
    {
     "name": "stderr",
     "output_type": "stream",
     "text": [
      "Cargando arxiv-part-02.json: 276984it [00:36, 7670.12it/s]                                                                                                            \n"
     ]
    },
    {
     "name": "stdout",
     "output_type": "stream",
     "text": [
      "\n",
      "✅ Carga paralela completa para arxiv-part-02.json. \n",
      "El script va a pausar por 70 segundos...\n"
     ]
    },
    {
     "name": "stderr",
     "output_type": "stream",
     "text": [
      "Pausa: 100%|█████████████████████████████████████████████████████████████████████████████████████████████████████████████████████████| 60/60 [01:00<00:00,  1.00s/seg]\n"
     ]
    },
    {
     "name": "stdout",
     "output_type": "stream",
     "text": [
      "¡El script continuó después de la pausa!\n"
     ]
    },
    {
     "name": "stderr",
     "output_type": "stream",
     "text": [
      "Cargando arxiv-part-03.json: 276984it [00:35, 7873.01it/s]                                                                                                            \n"
     ]
    },
    {
     "name": "stdout",
     "output_type": "stream",
     "text": [
      "\n",
      "✅ Carga paralela completa para arxiv-part-03.json. \n",
      "El script va a pausar por 70 segundos...\n"
     ]
    },
    {
     "name": "stderr",
     "output_type": "stream",
     "text": [
      "Pausa: 100%|█████████████████████████████████████████████████████████████████████████████████████████████████████████████████████████| 60/60 [01:00<00:00,  1.00s/seg]\n"
     ]
    },
    {
     "name": "stdout",
     "output_type": "stream",
     "text": [
      "¡El script continuó después de la pausa!\n"
     ]
    },
    {
     "name": "stderr",
     "output_type": "stream",
     "text": [
      "Cargando arxiv-part-04.json: 276984it [00:37, 7324.55it/s]                                                                                                            \n"
     ]
    },
    {
     "name": "stdout",
     "output_type": "stream",
     "text": [
      "\n",
      "✅ Carga paralela completa para arxiv-part-04.json. \n",
      "El script va a pausar por 70 segundos...\n"
     ]
    },
    {
     "name": "stderr",
     "output_type": "stream",
     "text": [
      "Pausa: 100%|█████████████████████████████████████████████████████████████████████████████████████████████████████████████████████████| 60/60 [01:00<00:00,  1.00s/seg]\n"
     ]
    },
    {
     "name": "stdout",
     "output_type": "stream",
     "text": [
      "¡El script continuó después de la pausa!\n"
     ]
    },
    {
     "name": "stderr",
     "output_type": "stream",
     "text": [
      "Cargando arxiv-part-05.json: 276984it [00:39, 7007.99it/s]                                                                                                            \n"
     ]
    },
    {
     "name": "stdout",
     "output_type": "stream",
     "text": [
      "\n",
      "✅ Carga paralela completa para arxiv-part-05.json. \n",
      "El script va a pausar por 70 segundos...\n"
     ]
    },
    {
     "name": "stderr",
     "output_type": "stream",
     "text": [
      "Pausa: 100%|█████████████████████████████████████████████████████████████████████████████████████████████████████████████████████████| 60/60 [01:00<00:00,  1.00s/seg]\n"
     ]
    },
    {
     "name": "stdout",
     "output_type": "stream",
     "text": [
      "¡El script continuó después de la pausa!\n"
     ]
    },
    {
     "name": "stderr",
     "output_type": "stream",
     "text": [
      "Cargando arxiv-part-06.json: 276984it [00:40, 6812.74it/s]                                                                                                            \n"
     ]
    },
    {
     "name": "stdout",
     "output_type": "stream",
     "text": [
      "\n",
      "✅ Carga paralela completa para arxiv-part-06.json. \n",
      "El script va a pausar por 70 segundos...\n"
     ]
    },
    {
     "name": "stderr",
     "output_type": "stream",
     "text": [
      "Pausa: 100%|█████████████████████████████████████████████████████████████████████████████████████████████████████████████████████████| 60/60 [01:00<00:00,  1.00s/seg]\n"
     ]
    },
    {
     "name": "stdout",
     "output_type": "stream",
     "text": [
      "¡El script continuó después de la pausa!\n"
     ]
    },
    {
     "name": "stderr",
     "output_type": "stream",
     "text": [
      "Cargando arxiv-part-07.json: 276984it [00:38, 7212.88it/s]                                                                                                            \n"
     ]
    },
    {
     "name": "stdout",
     "output_type": "stream",
     "text": [
      "\n",
      "✅ Carga paralela completa para arxiv-part-07.json. \n",
      "El script va a pausar por 70 segundos...\n"
     ]
    },
    {
     "name": "stderr",
     "output_type": "stream",
     "text": [
      "Pausa: 100%|█████████████████████████████████████████████████████████████████████████████████████████████████████████████████████████| 60/60 [01:00<00:00,  1.00s/seg]\n"
     ]
    },
    {
     "name": "stdout",
     "output_type": "stream",
     "text": [
      "¡El script continuó después de la pausa!\n"
     ]
    },
    {
     "name": "stderr",
     "output_type": "stream",
     "text": [
      "Cargando arxiv-part-08.json: 276984it [00:38, 7230.66it/s]                                                                                                            \n"
     ]
    },
    {
     "name": "stdout",
     "output_type": "stream",
     "text": [
      "\n",
      "✅ Carga paralela completa para arxiv-part-08.json. \n",
      "El script va a pausar por 70 segundos...\n"
     ]
    },
    {
     "name": "stderr",
     "output_type": "stream",
     "text": [
      "Pausa: 100%|█████████████████████████████████████████████████████████████████████████████████████████████████████████████████████████| 60/60 [01:00<00:00,  1.00s/seg]\n"
     ]
    },
    {
     "name": "stdout",
     "output_type": "stream",
     "text": [
      "¡El script continuó después de la pausa!\n"
     ]
    },
    {
     "name": "stderr",
     "output_type": "stream",
     "text": [
      "Cargando arxiv-part-09.json: 276984it [00:30, 9084.73it/s]                                                                                                            \n"
     ]
    },
    {
     "name": "stdout",
     "output_type": "stream",
     "text": [
      "\n",
      "✅ Carga paralela completa para arxiv-part-09.json. \n",
      "El script va a pausar por 70 segundos...\n"
     ]
    },
    {
     "name": "stderr",
     "output_type": "stream",
     "text": [
      "Pausa: 100%|█████████████████████████████████████████████████████████████████████████████████████████████████████████████████████████| 60/60 [01:00<00:00,  1.00s/seg]\n"
     ]
    },
    {
     "name": "stdout",
     "output_type": "stream",
     "text": [
      "¡El script continuó después de la pausa!\n"
     ]
    },
    {
     "name": "stderr",
     "output_type": "stream",
     "text": [
      "Cargando arxiv-part-10.json: 12it [00:00, 58.54it/s]                                                                                                                  \n"
     ]
    },
    {
     "name": "stdout",
     "output_type": "stream",
     "text": [
      "\n",
      "✅ Carga paralela completa para arxiv-part-10.json. \n",
      "El script va a pausar por 70 segundos...\n"
     ]
    },
    {
     "name": "stderr",
     "output_type": "stream",
     "text": [
      "Pausa: 100%|█████████████████████████████████████████████████████████████████████████████████████████████████████████████████████████| 60/60 [01:00<00:00,  1.00s/seg]"
     ]
    },
    {
     "name": "stdout",
     "output_type": "stream",
     "text": [
      "¡El script continuó después de la pausa!\n"
     ]
    },
    {
     "name": "stderr",
     "output_type": "stream",
     "text": [
      "\n"
     ]
    }
   ],
   "source": [
    "# === Lectura + carga paralela ===\n",
    "for i in archivos:\n",
    "    json_file_path = i\n",
    "    # Usamos total_lines para la barra de carga, asegúrate que esté definida para cada archivo\n",
    "    with open(json_file_path, 'r', encoding='utf-8') as f, \\\n",
    "         tqdm(total=total_lines, desc=f\"Cargando {json_file_path.split('/')[-1]}\") as pbar_loading:\n",
    "        batch = []\n",
    "        futures = []\n",
    "        with ThreadPoolExecutor(max_workers=max_workers) as executor:\n",
    "            for line in f:\n",
    "                try:\n",
    "                    record = json.loads(line)\n",
    "                    # 👉 Agregar campo pdf_source\n",
    "                    record[\"pdf_source\"] = f\"https://arxiv.org/pdf/{record['id']}\"\n",
    "                    batch.append(record)\n",
    "                    if len(batch) >= batch_size:\n",
    "                        future = executor.submit(insert_batch, batch)\n",
    "                        futures.append(future)\n",
    "                        batch = []\n",
    "                except json.JSONDecodeError:\n",
    "                    continue\n",
    "                pbar_loading.update(1) # Actualiza la barra de carga\n",
    "\n",
    "            # Último batch\n",
    "            if batch:\n",
    "                futures.append(executor.submit(insert_batch, batch))\n",
    "                pbar_loading.update(len(batch)) # Actualiza con los elementos restantes\n",
    "        \n",
    "    # === Esperar a que terminen todas las cargas ===\n",
    "    for future in futures:\n",
    "        future.result() # Espera a que los futuros se completen y maneja excepciones si es necesario\n",
    "    \n",
    "    print(f\"\\n✅ Carga paralela completa para {json_file_path}. \") # Salto de línea para la siguiente barra\n",
    "    \n",
    "    print(\"El script va a pausar por 60 segundos...\")\n",
    "    for _ in tqdm(range(60), desc=\"Pausa\", unit=\"seg\"):\n",
    "        time.sleep(1) \n",
    "    print(\"¡El script continuó después de la pausa!\")"
   ]
  },
  {
   "cell_type": "code",
   "execution_count": 13,
   "id": "bd426c95-495f-4859-b0d1-d6603c19d047",
   "metadata": {},
   "outputs": [
    {
     "name": "stdout",
     "output_type": "stream",
     "text": [
      "🗑️ Todos los documentos eliminados.\n"
     ]
    }
   ],
   "source": [
    "'''\n",
    "from pymongo import MongoClient\n",
    "\n",
    "client = MongoClient(\"mongodb://localhost:27018/\")\n",
    "db = client[\"arxiv_db\"]\n",
    "collection = db[\"articles\"]\n",
    "\n",
    "# ⚠️ Eliminar todos los documentos\n",
    "collection.delete_many({})\n",
    "print(\"🗑️ Todos los documentos eliminados.\")\n",
    "'''"
   ]
  },
  {
   "cell_type": "code",
   "execution_count": null,
   "id": "b21d42b4-cefd-439d-9526-3400ef5bc645",
   "metadata": {},
   "outputs": [],
   "source": []
  }
 ],
 "metadata": {
  "kernelspec": {
   "display_name": "Python 3 (ipykernel)",
   "language": "python",
   "name": "python3"
  },
  "language_info": {
   "codemirror_mode": {
    "name": "ipython",
    "version": 3
   },
   "file_extension": ".py",
   "mimetype": "text/x-python",
   "name": "python",
   "nbconvert_exporter": "python",
   "pygments_lexer": "ipython3",
   "version": "3.13.3"
  }
 },
 "nbformat": 4,
 "nbformat_minor": 5
}
