{
 "cells": [
  {
   "cell_type": "code",
   "execution_count": 1,
   "id": "3bf57466",
   "metadata": {
    "vscode": {
     "languageId": "plaintext"
    }
   },
   "outputs": [],
   "source": [
    "from pymongo import MongoClient\n",
    "from datetime import datetime\n",
    "\n",
    "# Conexión al cluster MongoDB\n",
    "client = MongoClient(\n",
    "    \"mongodb://mongo1:30001,mongo2:30002,mongo3:30003/?replicaSet=my-replica-set\"\n",
    ")\n",
    "db = client[\"arxiv_db\"]\n",
    "collection = db[\"articles\"]"
   ]
  },
  {
   "cell_type": "markdown",
   "id": "f70c351f",
   "metadata": {},
   "source": [
    "## a. Devolver los títulos y fechas de creación de artículos publicados en el año 2025. Mostrar solo esos campos y limitar a los primeros 20 resultados."
   ]
  },
  {
   "cell_type": "code",
   "execution_count": 8,
   "id": "e51c2eb4-1f26-41be-b762-239e90d22423",
   "metadata": {},
   "outputs": [],
   "source": [
    "# Consulta para artículos de 2025 (usando el campo 'versions.created')\n",
    "results = collection.aggregate([\n",
    "    {\n",
    "        \"$unwind\": \"$versions\"  # Descompone el array de versiones\n",
    "    },\n",
    "    {\n",
    "        \"$match\": {\n",
    "            \"versions.created\": {\n",
    "                \"$regex\": \"2025\"  # Filtra por fechas que comiencen con 2005\n",
    "            }\n",
    "        }\n",
    "    },\n",
    "    {\n",
    "        \"$project\": {\n",
    "            \"title\": 1,\n",
    "            \"created\": \"$versions.created\",\n",
    "            \"_id\": 0\n",
    "        }\n",
    "    },\n",
    "    {\n",
    "        \"$limit\": 20\n",
    "    }\n",
    "])\n",
    "\n",
    "# Mostrar resultados\n",
    "print(\"Títulos y fechas de creación (2025):\")\n",
    "for idx, doc in enumerate(results, 1):\n",
    "    print(f\"{idx}. {doc['title']} - {doc['created']}\")"
   ]
  },
  {
   "cell_type": "code",
   "execution_count": 13,
   "id": "ea9eadda-5e23-48df-8a3c-dc07f0a0b378",
   "metadata": {},
   "outputs": [
    {
     "name": "stdout",
     "output_type": "stream",
     "text": [
      "Títulos y fechas de creación (2025):\n",
      "1. Hamiltonian Graphs and the Traveling Salesman Problem - Tue, 25 Feb 2025 17:59:04 GMT\n",
      "2. Proof of Riemann Hypothesis - Wed, 19 Mar 2025 03:35:48 GMT\n",
      "3. Proof of Riemann Hypothesis - Thu, 10 Apr 2025 02:19:52 GMT\n",
      "4. The nature of electromagnetic energy - Wed, 14 May 2025 18:20:15 GMT\n",
      "5. Periodic relativity: the theory of gravity in flat space time - Wed, 15 Jan 2025 06:50:35 GMT\n",
      "6. Rationalization of EPR Coincidence Experiments - Tue, 1 Apr 2025 18:36:55 GMT\n",
      "7. Generating functions for borders - Sun, 2 Mar 2025 18:13:43 GMT\n",
      "8. Data Tables for Lorentz and CPT Violation - Mon, 13 Jan 2025 15:37:10 GMT\n",
      "9. On Two Related Questions of Wilf Concerning Standard Young Tableaux - Mon, 28 Apr 2025 19:09:23 GMT\n",
      "10. The Kohn Algorithm on Denjoy-Carleman Classes - Fri, 16 May 2025 14:35:45 GMT\n",
      "11. A proof of the Riemann hypothesis - Wed, 12 Feb 2025 23:35:59 GMT\n",
      "12. A proof of the Riemann hypothesis - Thu, 17 Apr 2025 17:01:47 GMT\n",
      "13. Physics education research: Resources for graduate student instructors - Tue, 27 May 2025 20:12:21 GMT\n",
      "14. Nonlinear Operator Superalgebras and BFV-BRST Operators for Lagrangian\n",
      "  Description of Mixed-symmetry HS Fields in AdS Spaces - Tue, 18 Mar 2025 23:48:21 GMT\n",
      "15. Combinatorics of double cosets and fundamental domains for the subgroups of the modular group - Tue, 13 May 2025 13:27:06 GMT\n",
      "16. From Dirac Notation to Probability Bracket Notation: Time Evolution and\n",
      "  Path Integral under Wick Rotations - Mon, 5 May 2025 23:32:12 GMT\n",
      "17. Explicit compactifications of moduli spaces of Campedelli and Burniat surfaces - Tue, 13 May 2025 18:18:59 GMT\n",
      "18. Physics education research: Resources for middle school science teachers - Tue, 27 May 2025 20:12:05 GMT\n",
      "19. The Cavity Approach to Parallel Dynamics of Ising Spins on a Graph - Tue, 22 Apr 2025 16:39:05 GMT\n",
      "20. PIGTIKAL (puzzles in geometry that I know and love) - Sat, 1 Feb 2025 03:58:18 GMT\n"
     ]
    }
   ],
   "source": [
    "# Opción 1: Usando find() e iterando sobre el cursor\n",
    "cursor = db.articles.find(\n",
    "    {\n",
    "        \"versions.created\": {\n",
    "            \"$regex\": \"2025\"\n",
    "        }\n",
    "    },\n",
    "    {\n",
    "        \"title\": 1,\n",
    "        \"versions.created\": 1,\n",
    "        \"_id\": 0\n",
    "    }\n",
    ").limit(20)\n",
    "\n",
    "# Iterar y mostrar resultados\n",
    "print(\"Títulos y fechas de creación (2025):\")\n",
    "for idx, doc in enumerate(results, 1):\n",
    "    print(f\"{idx}. {doc['title']} - {doc['created']}\")\n",
    "# for document in cursor:\n",
    "#     print(document)"
   ]
  },
  {
   "cell_type": "code",
   "execution_count": null,
   "id": "fb6e07ea-355a-4856-bb65-4731df3a803d",
   "metadata": {},
   "outputs": [],
   "source": []
  }
 ],
 "metadata": {
  "kernelspec": {
   "display_name": "Python 3 (ipykernel)",
   "language": "python",
   "name": "python3"
  },
  "language_info": {
   "codemirror_mode": {
    "name": "ipython",
    "version": 3
   },
   "file_extension": ".py",
   "mimetype": "text/x-python",
   "name": "python",
   "nbconvert_exporter": "python",
   "pygments_lexer": "ipython3",
   "version": "3.13.3"
  }
 },
 "nbformat": 4,
 "nbformat_minor": 5
}
