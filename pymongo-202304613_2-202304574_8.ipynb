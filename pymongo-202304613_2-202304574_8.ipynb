{
 "cells": [
  {
   "cell_type": "code",
   "execution_count": 34,
   "id": "3bf57466",
   "metadata": {
    "vscode": {
     "languageId": "plaintext"
    }
   },
   "outputs": [],
   "source": [
    "from pymongo import MongoClient\n",
    "from datetime import datetime\n",
    "\n",
    "# Conexión al cluster MongoDB\n",
    "client = MongoClient(\n",
    "    \"mongodb://mongo1:30001,mongo2:30002,mongo3:30003/?replicaSet=my-replica-set\"\n",
    ")\n",
    "db = client[\"arxiv_db\"]\n",
    "collection = db[\"articles\"]"
   ]
  },
  {
   "cell_type": "markdown",
   "id": "f70c351f",
   "metadata": {},
   "source": [
    "## a. Devolver los títulos y fechas de creación de artículos publicados en el año 2025. Mostrar solo esos campos y limitar a los primeros 20 resultados."
   ]
  },
  {
   "cell_type": "code",
   "execution_count": 35,
   "id": "ae276484-0635-4a7b-bd80-c59aa2668904",
   "metadata": {},
   "outputs": [
    {
     "name": "stdout",
     "output_type": "stream",
     "text": [
      "1 .  {'title': 'Kinematically-enhanced interpolating operators for boosted hadrons', 'created': ['Wed, 1 Jan 2025 05:26:42 GMT']}\n",
      "2 .  {'title': 'Stable inversion of potential in nonlinear wave equations with cubic\\n  nonlinearity', 'created': ['Wed, 1 Jan 2025 06:35:27 GMT', 'Tue, 21 Jan 2025 01:27:18 GMT']}\n",
      "3 .  {'title': 'LENS-XAI: Redefining Lightweight and Explainable Network Security\\n  through Knowledge Distillation and Variational Autoencoders for Scalable\\n  Intrusion Detection in Cybersecurity', 'created': ['Wed, 1 Jan 2025 10:00:49 GMT', 'Tue, 7 Jan 2025 23:43:09 GMT']}\n",
      "4 .  {'title': 'Hardness of Learning Fixed Parities with Neural Networks', 'created': ['Wed, 1 Jan 2025 12:04:06 GMT', 'Wed, 8 Jan 2025 10:42:53 GMT']}\n",
      "5 .  {'title': 'SPARNet: Continual Test-Time Adaptation via Sample Partitioning Strategy\\n  and Anti-Forgetting Regularization', 'created': ['Wed, 1 Jan 2025 12:19:17 GMT']}\n",
      "6 .  {'title': 'Non-dispersive graded impedance acoustic lenses', 'created': ['Wed, 1 Jan 2025 12:51:14 GMT']}\n",
      "7 .  {'title': 'Scale-wise Bidirectional Alignment Network for Referring Remote Sensing\\n  Image Segmentation', 'created': ['Wed, 1 Jan 2025 14:24:04 GMT', 'Mon, 6 Jan 2025 14:49:47 GMT']}\n",
      "8 .  {'title': 'Hybridising Reinforcement Learning and Heuristics for Hierarchical\\n  Directed Arc Routing Problems', 'created': ['Wed, 1 Jan 2025 14:29:54 GMT']}\n",
      "9 .  {'title': 'On the Parameterized Complexity of Controlling Amendment and Successive\\n  Winners', 'created': ['Wed, 1 Jan 2025 15:08:03 GMT', 'Wed, 15 Jan 2025 13:15:06 GMT', 'Tue, 18 Mar 2025 14:35:36 GMT']}\n",
      "10 .  {'title': 'Paternalism and Deliberation: An Experiment on Making Formal Rules', 'created': ['Wed, 1 Jan 2025 15:16:40 GMT']}\n",
      "11 .  {'title': 'Extracting Interaction Kernels for Many-Particle Systems by a Two-Phase\\n  Approach', 'created': ['Wed, 1 Jan 2025 03:48:08 GMT']}\n",
      "12 .  {'title': 'AttriReBoost: A Gradient-Free Propagation Optimization Method for Cold\\n  Start Mitigation in Attribute Missing Graphs', 'created': ['Wed, 1 Jan 2025 06:19:56 GMT']}\n",
      "13 .  {'title': 'Beyond Words: AuralLLM and SignMST-C for Sign Language Production and\\n  Bidirectional Accessibility', 'created': ['Wed, 1 Jan 2025 07:55:15 GMT', 'Sun, 13 Apr 2025 12:50:16 GMT']}\n",
      "14 .  {'title': 'Infectious diseases, imposing density-dependent mortality on MHC/HLA\\n  variation, can account for balancing selection and MHC/HLA polymorphism', 'created': ['Wed, 1 Jan 2025 08:06:55 GMT']}\n",
      "15 .  {'title': 'Chiral induced Spin Polarized Electron Current: Origin of the Chiral\\n  Induced Spin Selectivity Effect', 'created': ['Wed, 1 Jan 2025 09:22:30 GMT']}\n",
      "16 .  {'title': 'On solvmanifolds with complex commutator and constant holomorphic\\n  sectional curvature', 'created': ['Wed, 1 Jan 2025 11:44:35 GMT']}\n",
      "17 .  {'title': 'Realization of chiral whispering gallery mode cavities enabled by\\n  photonic Chern insulators', 'created': ['Wed, 1 Jan 2025 12:01:13 GMT']}\n",
      "18 .  {'title': 'An LLM-Empowered Adaptive Evolutionary Algorithm For Multi-Component\\n  Deep Learning Systems', 'created': ['Wed, 1 Jan 2025 13:19:58 GMT']}\n",
      "19 .  {'title': 'Spatially-guided Temporal Aggregation for Robust Event-RGB Optical Flow\\n  Estimation', 'created': ['Wed, 1 Jan 2025 13:40:09 GMT']}\n",
      "20 .  {'title': 'Penalized weighted GEEs for high-dimensional longitudinal data with\\n  informative cluter size', 'created': ['Wed, 1 Jan 2025 13:41:28 GMT']}\n"
     ]
    }
   ],
   "source": [
    "resultado = collection.aggregate(\n",
    "    [  \n",
    "        {\n",
    "            \"$match\": {  \n",
    "                \"versions\": {\n",
    "                    \"$elemMatch\": {\n",
    "                        \"version\": \"v1\",\n",
    "                        \"created\": {\"$regex\": \"2025\"}\n",
    "                    }\n",
    "                }\n",
    "            }\n",
    "        },\n",
    "        {\n",
    "            \"$project\": {\n",
    "                \"title\": 1,\n",
    "                \"created\": \"$versions.created\",\n",
    "                \"_id\": 0\n",
    "            }\n",
    "        },\n",
    "        {\n",
    "            \"$limit\": 20\n",
    "        }\n",
    "    ]\n",
    ")\n",
    "c = 1\n",
    "for i in resultado:\n",
    "    print(c, \". \", i)\n",
    "    c += 1\n",
    "    "
   ]
  },
  {
   "cell_type": "markdown",
   "id": "5ff80ce6-801d-4edb-a92a-420d06d8b996",
   "metadata": {},
   "source": [
    "## b. Devolver los títulos y los autores de artículos que pertenezcan a las categorías \"cs.AI\" o \"stat.ML\" y que tengan al menos tres autores. Mostrar solo esos campos y limitar a los primeros 10 resultados."
   ]
  },
  {
   "cell_type": "code",
   "execution_count": 33,
   "id": "95c3b24e-6b1a-47c8-b396-7bbfa735c648",
   "metadata": {},
   "outputs": [
    {
     "name": "stdout",
     "output_type": "stream",
     "text": [
      "1 .  {'authors': 'Tarik Hadzic, Rune Moller Jensen, Henrik Reif Andersen', 'title': 'Calculating Valid Domains for BDD-Based Interactive Configuration'}\n",
      "2 .  {'authors': 'Kristina Lerman, Anon Plangprasopchok and Chio Wong', 'title': 'Personalizing Image Search Results on Flickr'}\n",
      "3 .  {'authors': 'Stefano Bistarelli, Ugo Montanari, Francesca Rossi, Francesco Santini', 'title': 'Unicast and Multicast Qos Routing with Soft Constraint Logic Programming'}\n",
      "4 .  {'authors': 'Juliana S Bernardes, Alberto Davila, Vitor Santos Costa, Gerson\\n  Zaverucha', 'title': 'A study of structural properties on profiles HMMs'}\n",
      "5 .  {'authors': 'H. Satori, M. Harti and N. Chenfour', 'title': 'Introduction to Arabic Speech Recognition Using CMUSphinx System'}\n",
      "6 .  {'authors': 'H. Satori, M. Harti and N. Chenfour', 'title': 'Arabic Speech Recognition System using CMU-Sphinx4'}\n",
      "7 .  {'authors': 'J. Uglov, V. Schetinin, C. Maple', 'title': 'Comparing Robustness of Pairwise and Multiclass Neural-Network Systems\\n  for Face Recognition'}\n",
      "8 .  {'authors': 'Giorgio Terracina, Nicola Leone, Vincenzino Lio, Claudio Panetta', 'title': 'Experimenting with recursive queries in database and logic programming\\n  systems'}\n",
      "9 .  {'authors': 'S. Mohamed, D. Rubin, and T. Marwala', 'title': 'An Adaptive Strategy for the Classification of G-Protein Coupled\\n  Receptors'}\n",
      "10 .  {'authors': \"Christian Gagn\\\\'e (INFORMATIQUE WGZ INC.), Mich\\\\`ele Sebag (INRIA\\n  Futurs), Marc Schoenauer (INRIA Futurs), Marco Tomassini (ISI)\", 'title': 'Ensemble Learning for Free with Evolutionary Algorithms ?'}\n"
     ]
    }
   ],
   "source": [
    "resultado = collection.aggregate([\n",
    "    {\n",
    "        \"$match\": {\n",
    "            \"$or\":[\n",
    "                {\"categories\": {\"$regex\": \"cs\\\\.AI\"}},\n",
    "                {\"categories\": {\"$regex\": \"stat\\\\.ML\"}}\n",
    "            ],\n",
    "            \"authors_parsed\": {\"$exists\": True},\n",
    "            \"$expr\": {\"$gte\": [{\"$size\": \"$authors_parsed\"}, 3]} \n",
    "            \n",
    "        }\n",
    "    },\n",
    "    {\n",
    "        \"$project\":{\n",
    "            \"_id\": 0,\n",
    "            \"title\": 1,\n",
    "            \"authors\": 1\n",
    "            \n",
    "        }\n",
    "    },\n",
    "    {\n",
    "        \"$limit\": 10\n",
    "    }\n",
    "    \n",
    "])\n",
    "\n",
    "\n",
    "c = 1\n",
    "for i in resultado:\n",
    "    print(c, \". \", i)\n",
    "    c += 1\n",
    "    "
   ]
  },
  {
   "cell_type": "markdown",
   "id": "a94fb8a7-4aba-4c0c-b53e-faadfb045464",
   "metadata": {},
   "source": [
    "## c. Devolver los títulos, las categorías y los enlaces al PDF de artículos que pertenezcan a la categoría \"hep-ph\" y tengan un DOI asignado. Mostrar solo esos campos y limitar a 15 resultados."
   ]
  },
  {
   "cell_type": "code",
   "execution_count": 3,
   "id": "952ad0ef-fa6b-4d37-982e-d91c05b0f64a",
   "metadata": {},
   "outputs": [
    {
     "name": "stdout",
     "output_type": "stream",
     "text": [
      "{'_id': ObjectId('6848db8fc4779460327cb43b'), 'id': '0704.0017', 'submitter': 'Nceba Mhlahlo', 'authors': 'Nceba Mhlahlo, David H. Buckley, Vikram S. Dhillon, Steven B. Potter,\\n  Brian Warner and Patric A. Woudt', 'title': 'Spectroscopic Observations of the Intermediate Polar EX Hydrae in\\n  Quiescence', 'comments': '10 pages, 11 figures (figures 3, 4, 7 and 8 at reduced resolution,\\n  originals available on request). Accepted for publication in Monthly Notices\\n  of the Royal Astronomical Society', 'journal-ref': 'Mon.Not.Roy.Astron.Soc.378:211-220,2007', 'doi': '10.1111/j.1365-2966.2007.11762.x', 'report-no': None, 'categories': 'astro-ph', 'license': None, 'abstract': '  Results from spectroscopic observations of the Intermediate Polar (IP) EX Hya\\nin quiescence during 1991 and 2001 are presented. Spin-modulated radial\\nvelocities consistent with an outer disc origin were detected for the first\\ntime in an IP. The spin pulsation was modulated with velocities near ~500-600\\nkm/s. These velocities are consistent with those of material circulating at the\\nouter edge of the accretion disc, suggesting corotation of the accretion\\ncurtain with material near the Roche lobe radius. Furthermore, spin Doppler\\ntomograms have revealed evidence of the accretion curtain emission extending\\nfrom velocities of ~500 km/s to ~1000 km/s. These findings have confirmed the\\ntheoretical model predictions of King & Wynn (1999), Belle et al. (2002) and\\nNorton et al. (2004) for EX Hya, which predict large accretion curtains that\\nextend to a distance close to the Roche lobe radius in this system. Evidence\\nfor overflow stream of material falling onto the magnetosphere was observed,\\nconfirming the result of Belle et al. (2005) that disc overflow in EX Hya is\\npresent during quiescence as well as outburst. It appears that the hbeta and\\nhgamma spin radial velocities originated from the rotation of the funnel at the\\nouter disc edge, while those of halpha were produced due to the flow of\\nmaterial along the field lines far from the white dwarf (narrow component) and\\nclose to the white dwarf (broad-base component), in agreement with the\\naccretion curtain model.\\n', 'versions': [{'version': 'v1', 'created': 'Sat, 31 Mar 2007 07:38:48 GMT'}], 'update_date': '2009-06-23', 'authors_parsed': [['Mhlahlo', 'Nceba', ''], ['Buckley', 'David H.', ''], ['Dhillon', 'Vikram S.', ''], ['Potter', 'Steven B.', ''], ['Warner', 'Brian', ''], ['Woudt', 'Patric A.', '']], 'pdf_source': 'https://arxiv.org/pdf/0704.0017'}\n"
     ]
    }
   ],
   "source": [
    "resultado = collection.find_one()\n",
    "print(resultado)"
   ]
  },
  {
   "cell_type": "code",
   "execution_count": 13,
   "id": "e51c2eb4-1f26-41be-b762-239e90d22423",
   "metadata": {
    "collapsed": true,
    "jupyter": {
     "outputs_hidden": true
    }
   },
   "outputs": [
    {
     "name": "stdout",
     "output_type": "stream",
     "text": [
      "{'title': 'Minkowski problem of anisotropic p-torsional rigidity', 'created': ['Wed, 1 Jan 2025 00:38:34 GMT', 'Sun, 5 Jan 2025 03:04:59 GMT']}\n",
      "{'title': 'Gravitational Instantons, old and new', 'created': ['Wed, 1 Jan 2025 00:38:55 GMT']}\n",
      "{'title': 'A system of Schr\\\\\"odinger\\'s problems and functional equations', 'created': ['Wed, 1 Jan 2025 04:24:07 GMT']}\n",
      "{'title': 'Category O for quantum loop algebras', 'created': ['Wed, 1 Jan 2025 05:01:39 GMT', 'Thu, 9 Jan 2025 12:06:04 GMT']}\n",
      "{'title': 'Automatic Construction of Pattern Classifiers Capable of Continuous\\n  Incremental Learning and Unlearning Tasks Based on Compact-Sized\\n  Probabilistic Neural Network', 'created': ['Wed, 1 Jan 2025 05:02:53 GMT']}\n"
     ]
    }
   ],
   "source": [
    "resultado = collection.aggregate(\n",
    "    [  # El pipeline debe ser una lista\n",
    "        {\n",
    "            \"$match\": {  # Usa $match para filtrar documentos\n",
    "                \"versions\": {\n",
    "                    \"$elemMatch\": {\n",
    "                        \"version\": \"v1\",\n",
    "                        \"created\": {\"$regex\": \"2025\"}\n",
    "                    }\n",
    "                }\n",
    "            }\n",
    "        },\n",
    "        {\n",
    "            \"$project\": {\n",
    "                \"title\": 1,\n",
    "                \"created\": \"$versions.created\",\n",
    "                \"_id\": 0\n",
    "            }\n",
    "        },\n",
    "        {\n",
    "            \"$limit\": 5\n",
    "        }\n",
    "    ]\n",
    ")\n",
    "\n",
    "for i in resultado:\n",
    "    print(i)"
   ]
  },
  {
   "cell_type": "code",
   "execution_count": 13,
   "id": "ea9eadda-5e23-48df-8a3c-dc07f0a0b378",
   "metadata": {
    "collapsed": true,
    "jupyter": {
     "outputs_hidden": true
    }
   },
   "outputs": [
    {
     "name": "stdout",
     "output_type": "stream",
     "text": [
      "Títulos y fechas de creación (2025):\n",
      "1. Hamiltonian Graphs and the Traveling Salesman Problem - Tue, 25 Feb 2025 17:59:04 GMT\n",
      "2. Proof of Riemann Hypothesis - Wed, 19 Mar 2025 03:35:48 GMT\n",
      "3. Proof of Riemann Hypothesis - Thu, 10 Apr 2025 02:19:52 GMT\n",
      "4. The nature of electromagnetic energy - Wed, 14 May 2025 18:20:15 GMT\n",
      "5. Periodic relativity: the theory of gravity in flat space time - Wed, 15 Jan 2025 06:50:35 GMT\n",
      "6. Rationalization of EPR Coincidence Experiments - Tue, 1 Apr 2025 18:36:55 GMT\n",
      "7. Generating functions for borders - Sun, 2 Mar 2025 18:13:43 GMT\n",
      "8. Data Tables for Lorentz and CPT Violation - Mon, 13 Jan 2025 15:37:10 GMT\n",
      "9. On Two Related Questions of Wilf Concerning Standard Young Tableaux - Mon, 28 Apr 2025 19:09:23 GMT\n",
      "10. The Kohn Algorithm on Denjoy-Carleman Classes - Fri, 16 May 2025 14:35:45 GMT\n",
      "11. A proof of the Riemann hypothesis - Wed, 12 Feb 2025 23:35:59 GMT\n",
      "12. A proof of the Riemann hypothesis - Thu, 17 Apr 2025 17:01:47 GMT\n",
      "13. Physics education research: Resources for graduate student instructors - Tue, 27 May 2025 20:12:21 GMT\n",
      "14. Nonlinear Operator Superalgebras and BFV-BRST Operators for Lagrangian\n",
      "  Description of Mixed-symmetry HS Fields in AdS Spaces - Tue, 18 Mar 2025 23:48:21 GMT\n",
      "15. Combinatorics of double cosets and fundamental domains for the subgroups of the modular group - Tue, 13 May 2025 13:27:06 GMT\n",
      "16. From Dirac Notation to Probability Bracket Notation: Time Evolution and\n",
      "  Path Integral under Wick Rotations - Mon, 5 May 2025 23:32:12 GMT\n",
      "17. Explicit compactifications of moduli spaces of Campedelli and Burniat surfaces - Tue, 13 May 2025 18:18:59 GMT\n",
      "18. Physics education research: Resources for middle school science teachers - Tue, 27 May 2025 20:12:05 GMT\n",
      "19. The Cavity Approach to Parallel Dynamics of Ising Spins on a Graph - Tue, 22 Apr 2025 16:39:05 GMT\n",
      "20. PIGTIKAL (puzzles in geometry that I know and love) - Sat, 1 Feb 2025 03:58:18 GMT\n"
     ]
    }
   ],
   "source": [
    "# Opción 1: Usando find() e iterando sobre el cursor\n",
    "cursor = db.articles.find(\n",
    "    {\n",
    "        \"versions.created\": {\n",
    "            \"$regex\": \"2025\"\n",
    "        }\n",
    "    },\n",
    "    {\n",
    "        \"title\": 1,\n",
    "        \"versions.created\": 1,\n",
    "        \"_id\": 0\n",
    "    }\n",
    ").limit(20)\n",
    "\n",
    "# Iterar y mostrar resultados\n",
    "print(\"Títulos y fechas de creación (2025):\")\n",
    "for idx, doc in enumerate(results, 1):\n",
    "    print(f\"{idx}. {doc['title']} - {doc['created']}\")\n",
    "# for document in cursor:\n",
    "#     print(document)"
   ]
  },
  {
   "cell_type": "code",
   "execution_count": null,
   "id": "fb6e07ea-355a-4856-bb65-4731df3a803d",
   "metadata": {},
   "outputs": [],
   "source": []
  }
 ],
 "metadata": {
  "kernelspec": {
   "display_name": "Python 3 (ipykernel)",
   "language": "python",
   "name": "python3"
  },
  "language_info": {
   "codemirror_mode": {
    "name": "ipython",
    "version": 3
   },
   "file_extension": ".py",
   "mimetype": "text/x-python",
   "name": "python",
   "nbconvert_exporter": "python",
   "pygments_lexer": "ipython3",
   "version": "3.13.3"
  }
 },
 "nbformat": 4,
 "nbformat_minor": 5
}
