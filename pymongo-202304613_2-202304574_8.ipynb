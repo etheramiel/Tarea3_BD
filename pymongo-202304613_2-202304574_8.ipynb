{
 "cells": [
  {
   "cell_type": "markdown",
   "id": "f70c351f",
   "metadata": {},
   "source": [
    "a. Devolver los títulos y fechas de creación de artículos publicados en el año 2025. Mostrar\n",
    "solo esos campos y limitar a los primeros 20 resultados."
   ]
  }
 ],
 "metadata": {
  "language_info": {
   "name": "python"
  }
 },
 "nbformat": 4,
 "nbformat_minor": 5
}
